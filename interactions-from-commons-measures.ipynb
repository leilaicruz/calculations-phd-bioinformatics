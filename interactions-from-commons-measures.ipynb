{
 "cells": [
  {
   "cell_type": "markdown",
   "metadata": {},
   "source": [
    "# Notebook to play with predictions of pairwise genetic/physical interactions using different biological features such as:\n",
    "\n",
    "- Marginal features,i.e, summary of the variable\n",
    "    - common interaction partners\n",
    "    - common Go terms\n",
    "    - common protein domains\n",
    "- Specific features\n",
    "    - which GO-terms as categorical data the pair share and not share\n",
    "    - from a fixed set of genes , write down with 0,1 and 2 , whether the pair has gene$_{i}$ as an interaction partner (same idea taken from the features used in the paper: **\"Predicting yeast synthetic lethal genetic interactions using protein domains\"** Authors: Bo Li, Feng Luo,School of Computing,Clemson University,Clemson, SC, USA,e-mail: bol, luofeng@clemson.edu,year:2009)\n"
   ]
  },
  {
   "cell_type": "code",
   "execution_count": 1,
   "metadata": {},
   "outputs": [],
   "source": [
    "# main libraries\n",
    "import pandas as pd\n",
    "import numpy as np\n",
    "from collections import defaultdict\n",
    "import seaborn as sns\n",
    "from matplotlib import cm\n",
    "import matplotlib.pyplot as plt\n",
    "from statistics import mean \n",
    "import os, fnmatch\n",
    "%matplotlib inline"
   ]
  },
  {
   "cell_type": "code",
   "execution_count": 2,
   "metadata": {},
   "outputs": [],
   "source": [
    "## data of all interactions for all genes\n",
    "\n",
    "data=pd.read_excel(r'C:\\Users\\linigodelacruz\\Documents\\PhD_2018\\Documentation\\Calculations\\data_BioGrid\\data-BioGrid-Yeast.xlsx')"
   ]
  },
  {
   "cell_type": "code",
   "execution_count": 3,
   "metadata": {},
   "outputs": [
    {
     "output_type": "execute_result",
     "data": {
      "text/plain": "  gene-query gene-target gene-query-name gene-target-name  \\\n0    YLR418C     YOL145C           CDC73             CTR9   \n1    YOL145C     YLR418C            CTR9            CDC73   \n2    YLR418C     YOR123C           CDC73             LEO1   \n3    YOR123C     YLR418C            LEO1            CDC73   \n4    YLR418C     YBR279W           CDC73             PAF1   \n\n      interaction-type      paper-source  Unnamed: 6  Unnamed: 7  Unnamed: 8  \n0  Affinity Capture-MS  Krogan NJ (2004)    14759368      559292      559292  \n1  Affinity Capture-MS  Krogan NJ (2004)    14759368      559292      559292  \n2  Affinity Capture-MS  Krogan NJ (2004)    14759368      559292      559292  \n3  Affinity Capture-MS  Krogan NJ (2004)    14759368      559292      559292  \n4  Affinity Capture-MS  Krogan NJ (2004)    14759368      559292      559292  ",
      "text/html": "<div>\n<style scoped>\n    .dataframe tbody tr th:only-of-type {\n        vertical-align: middle;\n    }\n\n    .dataframe tbody tr th {\n        vertical-align: top;\n    }\n\n    .dataframe thead th {\n        text-align: right;\n    }\n</style>\n<table border=\"1\" class=\"dataframe\">\n  <thead>\n    <tr style=\"text-align: right;\">\n      <th></th>\n      <th>gene-query</th>\n      <th>gene-target</th>\n      <th>gene-query-name</th>\n      <th>gene-target-name</th>\n      <th>interaction-type</th>\n      <th>paper-source</th>\n      <th>Unnamed: 6</th>\n      <th>Unnamed: 7</th>\n      <th>Unnamed: 8</th>\n    </tr>\n  </thead>\n  <tbody>\n    <tr>\n      <th>0</th>\n      <td>YLR418C</td>\n      <td>YOL145C</td>\n      <td>CDC73</td>\n      <td>CTR9</td>\n      <td>Affinity Capture-MS</td>\n      <td>Krogan NJ (2004)</td>\n      <td>14759368</td>\n      <td>559292</td>\n      <td>559292</td>\n    </tr>\n    <tr>\n      <th>1</th>\n      <td>YOL145C</td>\n      <td>YLR418C</td>\n      <td>CTR9</td>\n      <td>CDC73</td>\n      <td>Affinity Capture-MS</td>\n      <td>Krogan NJ (2004)</td>\n      <td>14759368</td>\n      <td>559292</td>\n      <td>559292</td>\n    </tr>\n    <tr>\n      <th>2</th>\n      <td>YLR418C</td>\n      <td>YOR123C</td>\n      <td>CDC73</td>\n      <td>LEO1</td>\n      <td>Affinity Capture-MS</td>\n      <td>Krogan NJ (2004)</td>\n      <td>14759368</td>\n      <td>559292</td>\n      <td>559292</td>\n    </tr>\n    <tr>\n      <th>3</th>\n      <td>YOR123C</td>\n      <td>YLR418C</td>\n      <td>LEO1</td>\n      <td>CDC73</td>\n      <td>Affinity Capture-MS</td>\n      <td>Krogan NJ (2004)</td>\n      <td>14759368</td>\n      <td>559292</td>\n      <td>559292</td>\n    </tr>\n    <tr>\n      <th>4</th>\n      <td>YLR418C</td>\n      <td>YBR279W</td>\n      <td>CDC73</td>\n      <td>PAF1</td>\n      <td>Affinity Capture-MS</td>\n      <td>Krogan NJ (2004)</td>\n      <td>14759368</td>\n      <td>559292</td>\n      <td>559292</td>\n    </tr>\n  </tbody>\n</table>\n</div>"
     },
     "metadata": {},
     "execution_count": 3
    }
   ],
   "source": [
    "data.head()"
   ]
  },
  {
   "cell_type": "code",
   "execution_count": 3,
   "metadata": {},
   "outputs": [],
   "source": [
    "\n",
    "data_copy=data.copy()\n",
    "data_specific=data_copy.drop(columns=['gene-query','gene-target','Unnamed: 6','Unnamed: 7','Unnamed: 8'])"
   ]
  },
  {
   "cell_type": "code",
   "execution_count": 189,
   "metadata": {},
   "outputs": [],
   "source": [
    "## Function to find common (how many) interaction partners of one gene with its interactors\n",
    "\n",
    "\n",
    "def common_partners(query,data):\n",
    "    #print(query)\n",
    "    d2 = defaultdict(dict)\n",
    "    #query=['CLN1']\n",
    "    # giant for loop\n",
    "    \n",
    "    for genes_names in query:\n",
    "        #filtering the table just for the value of the query\n",
    "        q1 = data[data['gene-query-name']==genes_names]\n",
    "        q1_interact=q1['gene-target-name'].unique()\n",
    "        \n",
    "    #    # a for loop for all the interactors of query\n",
    "    #     if len(q1_interact)==0: \n",
    "    #         d2[query2, 'None'][\"fraction-of-common-partners\"] = 0\n",
    "            \n",
    "        for query2 in q1_interact:\n",
    "\n",
    "        \n",
    "            q2=data[data['gene-query-name']==query2] #these are get_query(q1[i])\n",
    "\n",
    "            q2_interact=q2['gene-target-name'].unique()\n",
    "        \n",
    "\n",
    "            d = defaultdict(int)\n",
    "            common = []\n",
    "            tmp1=[]\n",
    "            for genes_names2  in q2_interact:\n",
    "                if genes_names2 in q1_interact: # if a gene interactor of the query1 is in interactors of query 2 \n",
    "                    common.append(genes_names2)\n",
    "                    # tmp=np.array(q1[q1['gene-target-name']==genes_names2]['interaction-type'].tolist())\n",
    "                    # type_interaction.append(tmp.ravel().ravel().ravel())\n",
    "                    d[genes_names2] += 1\n",
    "                    \n",
    "            d2[query2]['query']=genes_names\n",
    "\n",
    "            tmp=q1[q1['gene-target-name']==query2]['interaction-type'].tolist()\n",
    "            #tmp1.append(tmp)\n",
    "            tmp=np.unique(np.array(tmp))\n",
    "           \n",
    "            if \"Synthetic Lethality\" in tmp:\n",
    "                d2[query2][\"Type\"] = \"Synthetic Lethality\"\n",
    "                        \n",
    "            else:\n",
    "                d2[query2][\"Type\"] = tmp[0]\n",
    "\n",
    "            d2[query2][\"common\"] = common\n",
    "            d2[query2][\"names of genes\"]=query2\n",
    "            d2[query2][\"n_common\"] = len(common)\n",
    "            d2[query2][\"number of partners of pairA\"] = len(q1_interact)\n",
    "            d2[query2][\"number of partners of pairB\"] = len(q2_interact)\n",
    "\n",
    "            \n",
    "            \n",
    "            if len(q1)==0 :\n",
    "                d2[query2][\"fraction-of-common-partners\"] = 0\n",
    "            else:\n",
    "                d2[query2][\"fraction-of-common-partners\"] = len(d)/len(q1_interact) *100     \n",
    "       \n",
    "\n",
    "        df=pd.DataFrame(d2).T\n",
    "        #df.set_index=query2\n",
    "        if len(df)==0:\n",
    "            df_sorted=[]\n",
    "        else:\n",
    "            df_sorted=df.sort_values(by=[\"fraction-of-common-partners\"])\n",
    "            df_sorted=df_sorted[::-1]\n",
    "\n",
    "        \n",
    "\n",
    "    return df_sorted"
   ]
  },
  {
   "cell_type": "code",
   "execution_count": 147,
   "metadata": {},
   "outputs": [],
   "source": [
    "df=common_partners(['BEM1'],data=data_specific)\n",
    "df.index=np.arange(0,len(df))\n",
    "#df['Type']=df['Type'].astype(np.str)\n",
    "df['n_common']=df['n_common'].astype(np.int)\n",
    "df['fraction-of-common-partners']=df['fraction-of-common-partners'].astype(np.int)\n",
    "df['number of partners of pairB']=df['number of partners of pairB'].astype(np.int)"
   ]
  },
  {
   "cell_type": "code",
   "execution_count": 168,
   "metadata": {},
   "outputs": [
    {
     "output_type": "stream",
     "name": "stdout",
     "text": "Hooray!! There are no NaN values in the dataframe\n"
    }
   ],
   "source": [
    "if df.isnull().values.sum()==0:\n",
    "    print('Hooray!! There are no NaN values in the dataframe')\n",
    "else:\n",
    "    print(df.isnull().values.sum())"
   ]
  },
  {
   "cell_type": "code",
   "execution_count": 148,
   "metadata": {},
   "outputs": [
    {
     "output_type": "execute_result",
     "data": {
      "text/plain": "  query                      Type  \\\n0  BEM1                       PCA   \n1  BEM1  Affinity Capture-Western   \n2  BEM1          Negative Genetic   \n\n                                              common names of genes  n_common  \\\n0  [BOI2, CDC24, FAR1, FUS3, STE11, STE5, STE7, C...           BEM1       323   \n1  [ACT1, COF1, BUD6, PFY1, VRP1, TWF1, TPM1, SAC...           ACT1       124   \n2  [YEL043W, GYP1, LAS21, BRE5, RIC1, RUD3, RGP1,...           GET2       104   \n\n  number of partners of pairA  number of partners of pairB  \\\n0                         323                          323   \n1                         323                          778   \n2                         323                          528   \n\n   fraction-of-common-partners  \n0                          100  \n1                           38  \n2                           32  ",
      "text/html": "<div>\n<style scoped>\n    .dataframe tbody tr th:only-of-type {\n        vertical-align: middle;\n    }\n\n    .dataframe tbody tr th {\n        vertical-align: top;\n    }\n\n    .dataframe thead th {\n        text-align: right;\n    }\n</style>\n<table border=\"1\" class=\"dataframe\">\n  <thead>\n    <tr style=\"text-align: right;\">\n      <th></th>\n      <th>query</th>\n      <th>Type</th>\n      <th>common</th>\n      <th>names of genes</th>\n      <th>n_common</th>\n      <th>number of partners of pairA</th>\n      <th>number of partners of pairB</th>\n      <th>fraction-of-common-partners</th>\n    </tr>\n  </thead>\n  <tbody>\n    <tr>\n      <th>0</th>\n      <td>BEM1</td>\n      <td>PCA</td>\n      <td>[BOI2, CDC24, FAR1, FUS3, STE11, STE5, STE7, C...</td>\n      <td>BEM1</td>\n      <td>323</td>\n      <td>323</td>\n      <td>323</td>\n      <td>100</td>\n    </tr>\n    <tr>\n      <th>1</th>\n      <td>BEM1</td>\n      <td>Affinity Capture-Western</td>\n      <td>[ACT1, COF1, BUD6, PFY1, VRP1, TWF1, TPM1, SAC...</td>\n      <td>ACT1</td>\n      <td>124</td>\n      <td>323</td>\n      <td>778</td>\n      <td>38</td>\n    </tr>\n    <tr>\n      <th>2</th>\n      <td>BEM1</td>\n      <td>Negative Genetic</td>\n      <td>[YEL043W, GYP1, LAS21, BRE5, RIC1, RUD3, RGP1,...</td>\n      <td>GET2</td>\n      <td>104</td>\n      <td>323</td>\n      <td>528</td>\n      <td>32</td>\n    </tr>\n  </tbody>\n</table>\n</div>"
     },
     "metadata": {},
     "execution_count": 148
    }
   ],
   "source": [
    "df.head(3)"
   ]
  },
  {
   "cell_type": "code",
   "execution_count": 58,
   "metadata": {},
   "outputs": [
    {
     "output_type": "execute_result",
     "data": {
      "text/plain": "Negative Genetic            205\nPositive Genetic             34\nTwo-hybrid                   24\nCo-fractionation             19\nAffinity Capture-Western     14\nCo-purification               6\nSynthetic Lethality           5\nDosage Rescue                 5\nAffinity Capture-MS           3\nPCA                           3\nReconstituted Complex         2\nSynthetic Rescue              1\nDosage Lethality              1\nSynthetic Growth Defect       1\nName: Type, dtype: int64"
     },
     "metadata": {},
     "execution_count": 58
    }
   ],
   "source": [
    "df.Type.value_counts()"
   ]
  },
  {
   "cell_type": "code",
   "execution_count": 138,
   "metadata": {},
   "outputs": [],
   "source": [
    "df_specific=df.copy()\n",
    "for i in np.arange(0,len(df_specific)):\n",
    "    if df_specific.iloc[i,1]=='Synthetic Lethality' or df_specific.iloc[i,1]=='Dosage Lethality':\n",
    "        df_specific.loc[df.index[i],'type-code']=1\n",
    "    else:\n",
    "        df_specific.loc[df.index[i],'type-code']=0\n",
    "        "
   ]
  },
  {
   "cell_type": "code",
   "execution_count": 87,
   "metadata": {},
   "outputs": [
    {
     "output_type": "execute_result",
     "data": {
      "text/plain": "  query                      Type  \\\n0  BEM1                       PCA   \n1  BEM1  Affinity Capture-Western   \n2  BEM1          Negative Genetic   \n3  BEM1          Negative Genetic   \n4  BEM1          Negative Genetic   \n\n                                              common names of genes  n_common  \\\n0  [BOI2, CDC24, FAR1, FUS3, STE11, STE5, STE7, C...           BEM1       323   \n1  [ACT1, COF1, BUD6, PFY1, VRP1, TWF1, TPM1, SAC...           ACT1       124   \n2  [YEL043W, GYP1, LAS21, BRE5, RIC1, RUD3, RGP1,...           GET2       104   \n3  [STE20, ASF1, BCK1, BEM1, BEM2, BEM4, BNI1, BU...           CLA4       102   \n4  [GET2, RGP1, GYP1, RIC1, BEM2, CSE2, PAT1, OPI...           BRE5        97   \n\n  number of partners of pairA  number of partners of pairB  \\\n0                         323                          323   \n1                         323                          778   \n2                         323                          528   \n3                         323                          497   \n4                         323                          772   \n\n   fraction-of-common-partners  type-code  \n0                          100        0.0  \n1                           38        0.0  \n2                           32        0.0  \n3                           31        0.0  \n4                           30        0.0  ",
      "text/html": "<div>\n<style scoped>\n    .dataframe tbody tr th:only-of-type {\n        vertical-align: middle;\n    }\n\n    .dataframe tbody tr th {\n        vertical-align: top;\n    }\n\n    .dataframe thead th {\n        text-align: right;\n    }\n</style>\n<table border=\"1\" class=\"dataframe\">\n  <thead>\n    <tr style=\"text-align: right;\">\n      <th></th>\n      <th>query</th>\n      <th>Type</th>\n      <th>common</th>\n      <th>names of genes</th>\n      <th>n_common</th>\n      <th>number of partners of pairA</th>\n      <th>number of partners of pairB</th>\n      <th>fraction-of-common-partners</th>\n      <th>type-code</th>\n    </tr>\n  </thead>\n  <tbody>\n    <tr>\n      <th>0</th>\n      <td>BEM1</td>\n      <td>PCA</td>\n      <td>[BOI2, CDC24, FAR1, FUS3, STE11, STE5, STE7, C...</td>\n      <td>BEM1</td>\n      <td>323</td>\n      <td>323</td>\n      <td>323</td>\n      <td>100</td>\n      <td>0.0</td>\n    </tr>\n    <tr>\n      <th>1</th>\n      <td>BEM1</td>\n      <td>Affinity Capture-Western</td>\n      <td>[ACT1, COF1, BUD6, PFY1, VRP1, TWF1, TPM1, SAC...</td>\n      <td>ACT1</td>\n      <td>124</td>\n      <td>323</td>\n      <td>778</td>\n      <td>38</td>\n      <td>0.0</td>\n    </tr>\n    <tr>\n      <th>2</th>\n      <td>BEM1</td>\n      <td>Negative Genetic</td>\n      <td>[YEL043W, GYP1, LAS21, BRE5, RIC1, RUD3, RGP1,...</td>\n      <td>GET2</td>\n      <td>104</td>\n      <td>323</td>\n      <td>528</td>\n      <td>32</td>\n      <td>0.0</td>\n    </tr>\n    <tr>\n      <th>3</th>\n      <td>BEM1</td>\n      <td>Negative Genetic</td>\n      <td>[STE20, ASF1, BCK1, BEM1, BEM2, BEM4, BNI1, BU...</td>\n      <td>CLA4</td>\n      <td>102</td>\n      <td>323</td>\n      <td>497</td>\n      <td>31</td>\n      <td>0.0</td>\n    </tr>\n    <tr>\n      <th>4</th>\n      <td>BEM1</td>\n      <td>Negative Genetic</td>\n      <td>[GET2, RGP1, GYP1, RIC1, BEM2, CSE2, PAT1, OPI...</td>\n      <td>BRE5</td>\n      <td>97</td>\n      <td>323</td>\n      <td>772</td>\n      <td>30</td>\n      <td>0.0</td>\n    </tr>\n  </tbody>\n</table>\n</div>"
     },
     "metadata": {},
     "execution_count": 87
    }
   ],
   "source": [
    "df_specific.head()"
   ]
  },
  {
   "cell_type": "code",
   "execution_count": 62,
   "metadata": {},
   "outputs": [
    {
     "output_type": "execute_result",
     "data": {
      "text/plain": "                             n_common  number of partners of pairB  \\\nn_common                     1.000000                     0.769872   \nnumber of partners of pairB  0.769872                     1.000000   \nfraction-of-common-partners  0.999346                     0.766905   \ntype-code                    0.125583                     0.054654   \n\n                             fraction-of-common-partners  type-code  \nn_common                                        0.999346   0.125583  \nnumber of partners of pairB                     0.766905   0.054654  \nfraction-of-common-partners                     1.000000   0.122612  \ntype-code                                       0.122612   1.000000  ",
      "text/html": "<div>\n<style scoped>\n    .dataframe tbody tr th:only-of-type {\n        vertical-align: middle;\n    }\n\n    .dataframe tbody tr th {\n        vertical-align: top;\n    }\n\n    .dataframe thead th {\n        text-align: right;\n    }\n</style>\n<table border=\"1\" class=\"dataframe\">\n  <thead>\n    <tr style=\"text-align: right;\">\n      <th></th>\n      <th>n_common</th>\n      <th>number of partners of pairB</th>\n      <th>fraction-of-common-partners</th>\n      <th>type-code</th>\n    </tr>\n  </thead>\n  <tbody>\n    <tr>\n      <th>n_common</th>\n      <td>1.000000</td>\n      <td>0.769872</td>\n      <td>0.999346</td>\n      <td>0.125583</td>\n    </tr>\n    <tr>\n      <th>number of partners of pairB</th>\n      <td>0.769872</td>\n      <td>1.000000</td>\n      <td>0.766905</td>\n      <td>0.054654</td>\n    </tr>\n    <tr>\n      <th>fraction-of-common-partners</th>\n      <td>0.999346</td>\n      <td>0.766905</td>\n      <td>1.000000</td>\n      <td>0.122612</td>\n    </tr>\n    <tr>\n      <th>type-code</th>\n      <td>0.125583</td>\n      <td>0.054654</td>\n      <td>0.122612</td>\n      <td>1.000000</td>\n    </tr>\n  </tbody>\n</table>\n</div>"
     },
     "metadata": {},
     "execution_count": 62
    }
   ],
   "source": [
    "df_specific.corr()"
   ]
  },
  {
   "cell_type": "code",
   "execution_count": 66,
   "metadata": {},
   "outputs": [],
   "source": [
    "## Function to find common (how many) GO terms of one gene with its interactors\n",
    "\n",
    "data_goterms=pd.read_excel(r'C:\\Users\\linigodelacruz\\Documents\\PhD_2018\\Documentation\\Calculations\\data_sgd\\slim-goterms-filtered-data.xlsx',header=0)"
   ]
  },
  {
   "cell_type": "code",
   "execution_count": 67,
   "metadata": {},
   "outputs": [],
   "source": [
    "data_goterms.columns=['gene-name','sgID','go-aspect','go-slim','goID','feature-type']\n"
   ]
  },
  {
   "cell_type": "code",
   "execution_count": 235,
   "metadata": {},
   "outputs": [],
   "source": [
    "def common_go(data_go,data_common_partners):\n",
    "\n",
    "    query=np.unique(np.array(data_common_partners['query']))\n",
    "    # big for loop for each gene analyzed in common partners\n",
    "    for i in np.arange(0,len(query)):\n",
    "        partners=data_common_partners[data_common_partners['query']==query[i]]['names of genes']\n",
    "\n",
    "        d2=defaultdict(dict)\n",
    "        d=defaultdict(int)\n",
    "\n",
    "        for genes in partners:\n",
    "            d2[genes]['query']=query[i]\n",
    "            d2[genes]['names of genes']=genes\n",
    "            tmp=data_go[data_go['gene-name']==query[i]]['go-slim'].tolist()\n",
    "            tmp2=data_go[data_go['gene-name']==genes]['go-slim'].tolist()\n",
    "            d2[genes]['common-go-terms']=np.intersect1d(tmp,tmp2)\n",
    "            d2[genes]['fraction-of-common-go']=len(np.intersect1d(tmp,tmp2))/len(tmp) *100\n",
    "\n",
    "        \n",
    "\n",
    "    df=pd.DataFrame(d2).T\n",
    "  \n",
    "\n",
    "\n",
    "\n",
    "    return df"
   ]
  },
  {
   "cell_type": "code",
   "execution_count": 150,
   "metadata": {},
   "outputs": [],
   "source": [
    "df_go=common_go(data_goterms,df_specific)"
   ]
  },
  {
   "cell_type": "code",
   "execution_count": 170,
   "metadata": {},
   "outputs": [],
   "source": [
    "df_join=df_specific.copy()\n",
    "df_join['fraction-of-common-go']=df_go['fraction-of-common-go'].tolist()"
   ]
  },
  {
   "cell_type": "code",
   "execution_count": 171,
   "metadata": {},
   "outputs": [],
   "source": [
    "df_join.corr()\n",
    "df_join=df_join.drop(columns='n_common')\n"
   ]
  },
  {
   "cell_type": "code",
   "execution_count": 172,
   "metadata": {},
   "outputs": [
    {
     "output_type": "execute_result",
     "data": {
      "text/plain": "  query                      Type  \\\n0  BEM1                       PCA   \n1  BEM1  Affinity Capture-Western   \n2  BEM1          Negative Genetic   \n3  BEM1          Negative Genetic   \n4  BEM1          Negative Genetic   \n\n                                              common names of genes  \\\n0  [BOI2, CDC24, FAR1, FUS3, STE11, STE5, STE7, C...           BEM1   \n1  [ACT1, COF1, BUD6, PFY1, VRP1, TWF1, TPM1, SAC...           ACT1   \n2  [YEL043W, GYP1, LAS21, BRE5, RIC1, RUD3, RGP1,...           GET2   \n3  [STE20, ASF1, BCK1, BEM1, BEM2, BEM4, BNI1, BU...           CLA4   \n4  [GET2, RGP1, GYP1, RIC1, BEM2, CSE2, PAT1, OPI...           BRE5   \n\n  number of partners of pairA  number of partners of pairB  \\\n0                         323                          323   \n1                         323                          778   \n2                         323                          528   \n3                         323                          497   \n4                         323                          772   \n\n   fraction-of-common-partners  type-code  fraction-of-common-go  \n0                          100        0.0                  100.0  \n1                           38        0.0                   50.0  \n2                           32        0.0                   10.0  \n3                           31        0.0                   30.0  \n4                           30        0.0                   10.0  ",
      "text/html": "<div>\n<style scoped>\n    .dataframe tbody tr th:only-of-type {\n        vertical-align: middle;\n    }\n\n    .dataframe tbody tr th {\n        vertical-align: top;\n    }\n\n    .dataframe thead th {\n        text-align: right;\n    }\n</style>\n<table border=\"1\" class=\"dataframe\">\n  <thead>\n    <tr style=\"text-align: right;\">\n      <th></th>\n      <th>query</th>\n      <th>Type</th>\n      <th>common</th>\n      <th>names of genes</th>\n      <th>number of partners of pairA</th>\n      <th>number of partners of pairB</th>\n      <th>fraction-of-common-partners</th>\n      <th>type-code</th>\n      <th>fraction-of-common-go</th>\n    </tr>\n  </thead>\n  <tbody>\n    <tr>\n      <th>0</th>\n      <td>BEM1</td>\n      <td>PCA</td>\n      <td>[BOI2, CDC24, FAR1, FUS3, STE11, STE5, STE7, C...</td>\n      <td>BEM1</td>\n      <td>323</td>\n      <td>323</td>\n      <td>100</td>\n      <td>0.0</td>\n      <td>100.0</td>\n    </tr>\n    <tr>\n      <th>1</th>\n      <td>BEM1</td>\n      <td>Affinity Capture-Western</td>\n      <td>[ACT1, COF1, BUD6, PFY1, VRP1, TWF1, TPM1, SAC...</td>\n      <td>ACT1</td>\n      <td>323</td>\n      <td>778</td>\n      <td>38</td>\n      <td>0.0</td>\n      <td>50.0</td>\n    </tr>\n    <tr>\n      <th>2</th>\n      <td>BEM1</td>\n      <td>Negative Genetic</td>\n      <td>[YEL043W, GYP1, LAS21, BRE5, RIC1, RUD3, RGP1,...</td>\n      <td>GET2</td>\n      <td>323</td>\n      <td>528</td>\n      <td>32</td>\n      <td>0.0</td>\n      <td>10.0</td>\n    </tr>\n    <tr>\n      <th>3</th>\n      <td>BEM1</td>\n      <td>Negative Genetic</td>\n      <td>[STE20, ASF1, BCK1, BEM1, BEM2, BEM4, BNI1, BU...</td>\n      <td>CLA4</td>\n      <td>323</td>\n      <td>497</td>\n      <td>31</td>\n      <td>0.0</td>\n      <td>30.0</td>\n    </tr>\n    <tr>\n      <th>4</th>\n      <td>BEM1</td>\n      <td>Negative Genetic</td>\n      <td>[GET2, RGP1, GYP1, RIC1, BEM2, CSE2, PAT1, OPI...</td>\n      <td>BRE5</td>\n      <td>323</td>\n      <td>772</td>\n      <td>30</td>\n      <td>0.0</td>\n      <td>10.0</td>\n    </tr>\n  </tbody>\n</table>\n</div>"
     },
     "metadata": {},
     "execution_count": 172
    }
   ],
   "source": [
    "df_join.head(5)"
   ]
  },
  {
   "cell_type": "code",
   "execution_count": 173,
   "metadata": {},
   "outputs": [
    {
     "output_type": "execute_result",
     "data": {
      "text/plain": "                             number of partners of pairB  \\\nnumber of partners of pairB                     1.000000   \nfraction-of-common-partners                     0.766905   \ntype-code                                       0.054654   \nfraction-of-common-go                           0.082108   \n\n                             fraction-of-common-partners  type-code  \\\nnumber of partners of pairB                     0.766905   0.054654   \nfraction-of-common-partners                     1.000000   0.122612   \ntype-code                                       0.122612   1.000000   \nfraction-of-common-go                           0.287631   0.108974   \n\n                             fraction-of-common-go  \nnumber of partners of pairB               0.082108  \nfraction-of-common-partners               0.287631  \ntype-code                                 0.108974  \nfraction-of-common-go                     1.000000  ",
      "text/html": "<div>\n<style scoped>\n    .dataframe tbody tr th:only-of-type {\n        vertical-align: middle;\n    }\n\n    .dataframe tbody tr th {\n        vertical-align: top;\n    }\n\n    .dataframe thead th {\n        text-align: right;\n    }\n</style>\n<table border=\"1\" class=\"dataframe\">\n  <thead>\n    <tr style=\"text-align: right;\">\n      <th></th>\n      <th>number of partners of pairB</th>\n      <th>fraction-of-common-partners</th>\n      <th>type-code</th>\n      <th>fraction-of-common-go</th>\n    </tr>\n  </thead>\n  <tbody>\n    <tr>\n      <th>number of partners of pairB</th>\n      <td>1.000000</td>\n      <td>0.766905</td>\n      <td>0.054654</td>\n      <td>0.082108</td>\n    </tr>\n    <tr>\n      <th>fraction-of-common-partners</th>\n      <td>0.766905</td>\n      <td>1.000000</td>\n      <td>0.122612</td>\n      <td>0.287631</td>\n    </tr>\n    <tr>\n      <th>type-code</th>\n      <td>0.054654</td>\n      <td>0.122612</td>\n      <td>1.000000</td>\n      <td>0.108974</td>\n    </tr>\n    <tr>\n      <th>fraction-of-common-go</th>\n      <td>0.082108</td>\n      <td>0.287631</td>\n      <td>0.108974</td>\n      <td>1.000000</td>\n    </tr>\n  </tbody>\n</table>\n</div>"
     },
     "metadata": {},
     "execution_count": 173
    }
   ],
   "source": [
    "df_join.corr()"
   ]
  },
  {
   "cell_type": "code",
   "execution_count": 168,
   "metadata": {},
   "outputs": [
    {
     "output_type": "display_data",
     "data": {
      "text/plain": "<Figure size 504x360 with 2 Axes>",
      "image/svg+xml": "<?xml version=\"1.0\" encoding=\"utf-8\" standalone=\"no\"?>\r\n<!DOCTYPE svg PUBLIC \"-//W3C//DTD SVG 1.1//EN\"\r\n  \"http://www.w3.org/Graphics/SVG/1.1/DTD/svg11.dtd\">\r\n<!-- Created with matplotlib (https://matplotlib.org/) -->\r\n<svg height=\"353.466406pt\" version=\"1.1\" viewBox=\"0 0 415.074 353.466406\" width=\"415.074pt\" xmlns=\"http://www.w3.org/2000/svg\" xmlns:xlink=\"http://www.w3.org/1999/xlink\">\r\n <defs>\r\n  <style type=\"text/css\">\r\n*{stroke-linecap:butt;stroke-linejoin:round;}\r\n  </style>\r\n </defs>\r\n <g id=\"figure_1\">\r\n  <g id=\"patch_1\">\r\n   <path d=\"M 0 353.466406 \r\nL 415.074 353.466406 \r\nL 415.074 0 \r\nL 0 0 \r\nz\r\n\" style=\"fill:#ffffff;\"/>\r\n  </g>\r\n  <g id=\"axes_1\">\r\n   <g id=\"patch_2\">\r\n    <path d=\"M 158.942187 194.524219 \r\nL 342.467187 194.524219 \r\nL 342.467187 10.999219 \r\nL 158.942187 10.999219 \r\nz\r\n\" style=\"fill:#ffffff;\"/>\r\n   </g>\r\n   <g id=\"matplotlib.axis_1\">\r\n    <g id=\"xtick_1\">\r\n     <g id=\"text_1\">\r\n      <!-- number of partners of pairB -->\r\n      <defs>\r\n       <path d=\"M 54.890625 33.015625 \r\nL 54.890625 0 \r\nL 45.90625 0 \r\nL 45.90625 32.71875 \r\nQ 45.90625 40.484375 42.875 44.328125 \r\nQ 39.84375 48.1875 33.796875 48.1875 \r\nQ 26.515625 48.1875 22.3125 43.546875 \r\nQ 18.109375 38.921875 18.109375 30.90625 \r\nL 18.109375 0 \r\nL 9.078125 0 \r\nL 9.078125 54.6875 \r\nL 18.109375 54.6875 \r\nL 18.109375 46.1875 \r\nQ 21.34375 51.125 25.703125 53.5625 \r\nQ 30.078125 56 35.796875 56 \r\nQ 45.21875 56 50.046875 50.171875 \r\nQ 54.890625 44.34375 54.890625 33.015625 \r\nz\r\n\" id=\"DejaVuSans-110\"/>\r\n       <path d=\"M 8.5 21.578125 \r\nL 8.5 54.6875 \r\nL 17.484375 54.6875 \r\nL 17.484375 21.921875 \r\nQ 17.484375 14.15625 20.5 10.265625 \r\nQ 23.53125 6.390625 29.59375 6.390625 \r\nQ 36.859375 6.390625 41.078125 11.03125 \r\nQ 45.3125 15.671875 45.3125 23.6875 \r\nL 45.3125 54.6875 \r\nL 54.296875 54.6875 \r\nL 54.296875 0 \r\nL 45.3125 0 \r\nL 45.3125 8.40625 \r\nQ 42.046875 3.421875 37.71875 1 \r\nQ 33.40625 -1.421875 27.6875 -1.421875 \r\nQ 18.265625 -1.421875 13.375 4.4375 \r\nQ 8.5 10.296875 8.5 21.578125 \r\nz\r\nM 31.109375 56 \r\nz\r\n\" id=\"DejaVuSans-117\"/>\r\n       <path d=\"M 52 44.1875 \r\nQ 55.375 50.25 60.0625 53.125 \r\nQ 64.75 56 71.09375 56 \r\nQ 79.640625 56 84.28125 50.015625 \r\nQ 88.921875 44.046875 88.921875 33.015625 \r\nL 88.921875 0 \r\nL 79.890625 0 \r\nL 79.890625 32.71875 \r\nQ 79.890625 40.578125 77.09375 44.375 \r\nQ 74.3125 48.1875 68.609375 48.1875 \r\nQ 61.625 48.1875 57.5625 43.546875 \r\nQ 53.515625 38.921875 53.515625 30.90625 \r\nL 53.515625 0 \r\nL 44.484375 0 \r\nL 44.484375 32.71875 \r\nQ 44.484375 40.625 41.703125 44.40625 \r\nQ 38.921875 48.1875 33.109375 48.1875 \r\nQ 26.21875 48.1875 22.15625 43.53125 \r\nQ 18.109375 38.875 18.109375 30.90625 \r\nL 18.109375 0 \r\nL 9.078125 0 \r\nL 9.078125 54.6875 \r\nL 18.109375 54.6875 \r\nL 18.109375 46.1875 \r\nQ 21.1875 51.21875 25.484375 53.609375 \r\nQ 29.78125 56 35.6875 56 \r\nQ 41.65625 56 45.828125 52.96875 \r\nQ 50 49.953125 52 44.1875 \r\nz\r\n\" id=\"DejaVuSans-109\"/>\r\n       <path d=\"M 48.6875 27.296875 \r\nQ 48.6875 37.203125 44.609375 42.84375 \r\nQ 40.53125 48.484375 33.40625 48.484375 \r\nQ 26.265625 48.484375 22.1875 42.84375 \r\nQ 18.109375 37.203125 18.109375 27.296875 \r\nQ 18.109375 17.390625 22.1875 11.75 \r\nQ 26.265625 6.109375 33.40625 6.109375 \r\nQ 40.53125 6.109375 44.609375 11.75 \r\nQ 48.6875 17.390625 48.6875 27.296875 \r\nz\r\nM 18.109375 46.390625 \r\nQ 20.953125 51.265625 25.265625 53.625 \r\nQ 29.59375 56 35.59375 56 \r\nQ 45.5625 56 51.78125 48.09375 \r\nQ 58.015625 40.1875 58.015625 27.296875 \r\nQ 58.015625 14.40625 51.78125 6.484375 \r\nQ 45.5625 -1.421875 35.59375 -1.421875 \r\nQ 29.59375 -1.421875 25.265625 0.953125 \r\nQ 20.953125 3.328125 18.109375 8.203125 \r\nL 18.109375 0 \r\nL 9.078125 0 \r\nL 9.078125 75.984375 \r\nL 18.109375 75.984375 \r\nz\r\n\" id=\"DejaVuSans-98\"/>\r\n       <path d=\"M 56.203125 29.59375 \r\nL 56.203125 25.203125 \r\nL 14.890625 25.203125 \r\nQ 15.484375 15.921875 20.484375 11.0625 \r\nQ 25.484375 6.203125 34.421875 6.203125 \r\nQ 39.59375 6.203125 44.453125 7.46875 \r\nQ 49.3125 8.734375 54.109375 11.28125 \r\nL 54.109375 2.78125 \r\nQ 49.265625 0.734375 44.1875 -0.34375 \r\nQ 39.109375 -1.421875 33.890625 -1.421875 \r\nQ 20.796875 -1.421875 13.15625 6.1875 \r\nQ 5.515625 13.8125 5.515625 26.8125 \r\nQ 5.515625 40.234375 12.765625 48.109375 \r\nQ 20.015625 56 32.328125 56 \r\nQ 43.359375 56 49.78125 48.890625 \r\nQ 56.203125 41.796875 56.203125 29.59375 \r\nz\r\nM 47.21875 32.234375 \r\nQ 47.125 39.59375 43.09375 43.984375 \r\nQ 39.0625 48.390625 32.421875 48.390625 \r\nQ 24.90625 48.390625 20.390625 44.140625 \r\nQ 15.875 39.890625 15.1875 32.171875 \r\nz\r\n\" id=\"DejaVuSans-101\"/>\r\n       <path d=\"M 41.109375 46.296875 \r\nQ 39.59375 47.171875 37.8125 47.578125 \r\nQ 36.03125 48 33.890625 48 \r\nQ 26.265625 48 22.1875 43.046875 \r\nQ 18.109375 38.09375 18.109375 28.8125 \r\nL 18.109375 0 \r\nL 9.078125 0 \r\nL 9.078125 54.6875 \r\nL 18.109375 54.6875 \r\nL 18.109375 46.1875 \r\nQ 20.953125 51.171875 25.484375 53.578125 \r\nQ 30.03125 56 36.53125 56 \r\nQ 37.453125 56 38.578125 55.875 \r\nQ 39.703125 55.765625 41.0625 55.515625 \r\nz\r\n\" id=\"DejaVuSans-114\"/>\r\n       <path id=\"DejaVuSans-32\"/>\r\n       <path d=\"M 30.609375 48.390625 \r\nQ 23.390625 48.390625 19.1875 42.75 \r\nQ 14.984375 37.109375 14.984375 27.296875 \r\nQ 14.984375 17.484375 19.15625 11.84375 \r\nQ 23.34375 6.203125 30.609375 6.203125 \r\nQ 37.796875 6.203125 41.984375 11.859375 \r\nQ 46.1875 17.53125 46.1875 27.296875 \r\nQ 46.1875 37.015625 41.984375 42.703125 \r\nQ 37.796875 48.390625 30.609375 48.390625 \r\nz\r\nM 30.609375 56 \r\nQ 42.328125 56 49.015625 48.375 \r\nQ 55.71875 40.765625 55.71875 27.296875 \r\nQ 55.71875 13.875 49.015625 6.21875 \r\nQ 42.328125 -1.421875 30.609375 -1.421875 \r\nQ 18.84375 -1.421875 12.171875 6.21875 \r\nQ 5.515625 13.875 5.515625 27.296875 \r\nQ 5.515625 40.765625 12.171875 48.375 \r\nQ 18.84375 56 30.609375 56 \r\nz\r\n\" id=\"DejaVuSans-111\"/>\r\n       <path d=\"M 37.109375 75.984375 \r\nL 37.109375 68.5 \r\nL 28.515625 68.5 \r\nQ 23.6875 68.5 21.796875 66.546875 \r\nQ 19.921875 64.59375 19.921875 59.515625 \r\nL 19.921875 54.6875 \r\nL 34.71875 54.6875 \r\nL 34.71875 47.703125 \r\nL 19.921875 47.703125 \r\nL 19.921875 0 \r\nL 10.890625 0 \r\nL 10.890625 47.703125 \r\nL 2.296875 47.703125 \r\nL 2.296875 54.6875 \r\nL 10.890625 54.6875 \r\nL 10.890625 58.5 \r\nQ 10.890625 67.625 15.140625 71.796875 \r\nQ 19.390625 75.984375 28.609375 75.984375 \r\nz\r\n\" id=\"DejaVuSans-102\"/>\r\n       <path d=\"M 18.109375 8.203125 \r\nL 18.109375 -20.796875 \r\nL 9.078125 -20.796875 \r\nL 9.078125 54.6875 \r\nL 18.109375 54.6875 \r\nL 18.109375 46.390625 \r\nQ 20.953125 51.265625 25.265625 53.625 \r\nQ 29.59375 56 35.59375 56 \r\nQ 45.5625 56 51.78125 48.09375 \r\nQ 58.015625 40.1875 58.015625 27.296875 \r\nQ 58.015625 14.40625 51.78125 6.484375 \r\nQ 45.5625 -1.421875 35.59375 -1.421875 \r\nQ 29.59375 -1.421875 25.265625 0.953125 \r\nQ 20.953125 3.328125 18.109375 8.203125 \r\nz\r\nM 48.6875 27.296875 \r\nQ 48.6875 37.203125 44.609375 42.84375 \r\nQ 40.53125 48.484375 33.40625 48.484375 \r\nQ 26.265625 48.484375 22.1875 42.84375 \r\nQ 18.109375 37.203125 18.109375 27.296875 \r\nQ 18.109375 17.390625 22.1875 11.75 \r\nQ 26.265625 6.109375 33.40625 6.109375 \r\nQ 40.53125 6.109375 44.609375 11.75 \r\nQ 48.6875 17.390625 48.6875 27.296875 \r\nz\r\n\" id=\"DejaVuSans-112\"/>\r\n       <path d=\"M 34.28125 27.484375 \r\nQ 23.390625 27.484375 19.1875 25 \r\nQ 14.984375 22.515625 14.984375 16.5 \r\nQ 14.984375 11.71875 18.140625 8.90625 \r\nQ 21.296875 6.109375 26.703125 6.109375 \r\nQ 34.1875 6.109375 38.703125 11.40625 \r\nQ 43.21875 16.703125 43.21875 25.484375 \r\nL 43.21875 27.484375 \r\nz\r\nM 52.203125 31.203125 \r\nL 52.203125 0 \r\nL 43.21875 0 \r\nL 43.21875 8.296875 \r\nQ 40.140625 3.328125 35.546875 0.953125 \r\nQ 30.953125 -1.421875 24.3125 -1.421875 \r\nQ 15.921875 -1.421875 10.953125 3.296875 \r\nQ 6 8.015625 6 15.921875 \r\nQ 6 25.140625 12.171875 29.828125 \r\nQ 18.359375 34.515625 30.609375 34.515625 \r\nL 43.21875 34.515625 \r\nL 43.21875 35.40625 \r\nQ 43.21875 41.609375 39.140625 45 \r\nQ 35.0625 48.390625 27.6875 48.390625 \r\nQ 23 48.390625 18.546875 47.265625 \r\nQ 14.109375 46.140625 10.015625 43.890625 \r\nL 10.015625 52.203125 \r\nQ 14.9375 54.109375 19.578125 55.046875 \r\nQ 24.21875 56 28.609375 56 \r\nQ 40.484375 56 46.34375 49.84375 \r\nQ 52.203125 43.703125 52.203125 31.203125 \r\nz\r\n\" id=\"DejaVuSans-97\"/>\r\n       <path d=\"M 18.3125 70.21875 \r\nL 18.3125 54.6875 \r\nL 36.8125 54.6875 \r\nL 36.8125 47.703125 \r\nL 18.3125 47.703125 \r\nL 18.3125 18.015625 \r\nQ 18.3125 11.328125 20.140625 9.421875 \r\nQ 21.96875 7.515625 27.59375 7.515625 \r\nL 36.8125 7.515625 \r\nL 36.8125 0 \r\nL 27.59375 0 \r\nQ 17.1875 0 13.234375 3.875 \r\nQ 9.28125 7.765625 9.28125 18.015625 \r\nL 9.28125 47.703125 \r\nL 2.6875 47.703125 \r\nL 2.6875 54.6875 \r\nL 9.28125 54.6875 \r\nL 9.28125 70.21875 \r\nz\r\n\" id=\"DejaVuSans-116\"/>\r\n       <path d=\"M 44.28125 53.078125 \r\nL 44.28125 44.578125 \r\nQ 40.484375 46.53125 36.375 47.5 \r\nQ 32.28125 48.484375 27.875 48.484375 \r\nQ 21.1875 48.484375 17.84375 46.4375 \r\nQ 14.5 44.390625 14.5 40.28125 \r\nQ 14.5 37.15625 16.890625 35.375 \r\nQ 19.28125 33.59375 26.515625 31.984375 \r\nL 29.59375 31.296875 \r\nQ 39.15625 29.25 43.1875 25.515625 \r\nQ 47.21875 21.78125 47.21875 15.09375 \r\nQ 47.21875 7.46875 41.1875 3.015625 \r\nQ 35.15625 -1.421875 24.609375 -1.421875 \r\nQ 20.21875 -1.421875 15.453125 -0.5625 \r\nQ 10.6875 0.296875 5.421875 2 \r\nL 5.421875 11.28125 \r\nQ 10.40625 8.6875 15.234375 7.390625 \r\nQ 20.0625 6.109375 24.8125 6.109375 \r\nQ 31.15625 6.109375 34.5625 8.28125 \r\nQ 37.984375 10.453125 37.984375 14.40625 \r\nQ 37.984375 18.0625 35.515625 20.015625 \r\nQ 33.0625 21.96875 24.703125 23.78125 \r\nL 21.578125 24.515625 \r\nQ 13.234375 26.265625 9.515625 29.90625 \r\nQ 5.8125 33.546875 5.8125 39.890625 \r\nQ 5.8125 47.609375 11.28125 51.796875 \r\nQ 16.75 56 26.8125 56 \r\nQ 31.78125 56 36.171875 55.265625 \r\nQ 40.578125 54.546875 44.28125 53.078125 \r\nz\r\n\" id=\"DejaVuSans-115\"/>\r\n       <path d=\"M 9.421875 54.6875 \r\nL 18.40625 54.6875 \r\nL 18.40625 0 \r\nL 9.421875 0 \r\nz\r\nM 9.421875 75.984375 \r\nL 18.40625 75.984375 \r\nL 18.40625 64.59375 \r\nL 9.421875 64.59375 \r\nz\r\n\" id=\"DejaVuSans-105\"/>\r\n       <path d=\"M 19.671875 34.8125 \r\nL 19.671875 8.109375 \r\nL 35.5 8.109375 \r\nQ 43.453125 8.109375 47.28125 11.40625 \r\nQ 51.125 14.703125 51.125 21.484375 \r\nQ 51.125 28.328125 47.28125 31.5625 \r\nQ 43.453125 34.8125 35.5 34.8125 \r\nz\r\nM 19.671875 64.796875 \r\nL 19.671875 42.828125 \r\nL 34.28125 42.828125 \r\nQ 41.5 42.828125 45.03125 45.53125 \r\nQ 48.578125 48.25 48.578125 53.8125 \r\nQ 48.578125 59.328125 45.03125 62.0625 \r\nQ 41.5 64.796875 34.28125 64.796875 \r\nz\r\nM 9.8125 72.90625 \r\nL 35.015625 72.90625 \r\nQ 46.296875 72.90625 52.390625 68.21875 \r\nQ 58.5 63.53125 58.5 54.890625 \r\nQ 58.5 48.1875 55.375 44.234375 \r\nQ 52.25 40.28125 46.1875 39.3125 \r\nQ 53.46875 37.75 57.5 32.78125 \r\nQ 61.53125 27.828125 61.53125 20.40625 \r\nQ 61.53125 10.640625 54.890625 5.3125 \r\nQ 48.25 0 35.984375 0 \r\nL 9.8125 0 \r\nz\r\n\" id=\"DejaVuSans-66\"/>\r\n      </defs>\r\n      <g style=\"fill:#262626;\" transform=\"translate(184.642187 341.088281)rotate(-90)scale(0.1 -0.1)\">\r\n       <use xlink:href=\"#DejaVuSans-110\"/>\r\n       <use x=\"63.378906\" xlink:href=\"#DejaVuSans-117\"/>\r\n       <use x=\"126.757812\" xlink:href=\"#DejaVuSans-109\"/>\r\n       <use x=\"224.169922\" xlink:href=\"#DejaVuSans-98\"/>\r\n       <use x=\"287.646484\" xlink:href=\"#DejaVuSans-101\"/>\r\n       <use x=\"349.169922\" xlink:href=\"#DejaVuSans-114\"/>\r\n       <use x=\"390.283203\" xlink:href=\"#DejaVuSans-32\"/>\r\n       <use x=\"422.070312\" xlink:href=\"#DejaVuSans-111\"/>\r\n       <use x=\"483.251953\" xlink:href=\"#DejaVuSans-102\"/>\r\n       <use x=\"518.457031\" xlink:href=\"#DejaVuSans-32\"/>\r\n       <use x=\"550.244141\" xlink:href=\"#DejaVuSans-112\"/>\r\n       <use x=\"613.720703\" xlink:href=\"#DejaVuSans-97\"/>\r\n       <use x=\"675\" xlink:href=\"#DejaVuSans-114\"/>\r\n       <use x=\"716.113281\" xlink:href=\"#DejaVuSans-116\"/>\r\n       <use x=\"755.322266\" xlink:href=\"#DejaVuSans-110\"/>\r\n       <use x=\"818.701172\" xlink:href=\"#DejaVuSans-101\"/>\r\n       <use x=\"880.224609\" xlink:href=\"#DejaVuSans-114\"/>\r\n       <use x=\"921.337891\" xlink:href=\"#DejaVuSans-115\"/>\r\n       <use x=\"973.4375\" xlink:href=\"#DejaVuSans-32\"/>\r\n       <use x=\"1005.224609\" xlink:href=\"#DejaVuSans-111\"/>\r\n       <use x=\"1066.40625\" xlink:href=\"#DejaVuSans-102\"/>\r\n       <use x=\"1101.611328\" xlink:href=\"#DejaVuSans-32\"/>\r\n       <use x=\"1133.398438\" xlink:href=\"#DejaVuSans-112\"/>\r\n       <use x=\"1196.875\" xlink:href=\"#DejaVuSans-97\"/>\r\n       <use x=\"1258.154297\" xlink:href=\"#DejaVuSans-105\"/>\r\n       <use x=\"1285.9375\" xlink:href=\"#DejaVuSans-114\"/>\r\n       <use x=\"1327.050781\" xlink:href=\"#DejaVuSans-66\"/>\r\n      </g>\r\n     </g>\r\n    </g>\r\n    <g id=\"xtick_2\">\r\n     <g id=\"text_2\">\r\n      <!-- fraction-of-common-partners -->\r\n      <defs>\r\n       <path d=\"M 48.78125 52.59375 \r\nL 48.78125 44.1875 \r\nQ 44.96875 46.296875 41.140625 47.34375 \r\nQ 37.3125 48.390625 33.40625 48.390625 \r\nQ 24.65625 48.390625 19.8125 42.84375 \r\nQ 14.984375 37.3125 14.984375 27.296875 \r\nQ 14.984375 17.28125 19.8125 11.734375 \r\nQ 24.65625 6.203125 33.40625 6.203125 \r\nQ 37.3125 6.203125 41.140625 7.25 \r\nQ 44.96875 8.296875 48.78125 10.40625 \r\nL 48.78125 2.09375 \r\nQ 45.015625 0.34375 40.984375 -0.53125 \r\nQ 36.96875 -1.421875 32.421875 -1.421875 \r\nQ 20.0625 -1.421875 12.78125 6.34375 \r\nQ 5.515625 14.109375 5.515625 27.296875 \r\nQ 5.515625 40.671875 12.859375 48.328125 \r\nQ 20.21875 56 33.015625 56 \r\nQ 37.15625 56 41.109375 55.140625 \r\nQ 45.0625 54.296875 48.78125 52.59375 \r\nz\r\n\" id=\"DejaVuSans-99\"/>\r\n       <path d=\"M 4.890625 31.390625 \r\nL 31.203125 31.390625 \r\nL 31.203125 23.390625 \r\nL 4.890625 23.390625 \r\nz\r\n\" id=\"DejaVuSans-45\"/>\r\n      </defs>\r\n      <g style=\"fill:#262626;\" transform=\"translate(230.523437 346.266406)rotate(-90)scale(0.1 -0.1)\">\r\n       <use xlink:href=\"#DejaVuSans-102\"/>\r\n       <use x=\"35.205078\" xlink:href=\"#DejaVuSans-114\"/>\r\n       <use x=\"76.318359\" xlink:href=\"#DejaVuSans-97\"/>\r\n       <use x=\"137.597656\" xlink:href=\"#DejaVuSans-99\"/>\r\n       <use x=\"192.578125\" xlink:href=\"#DejaVuSans-116\"/>\r\n       <use x=\"231.787109\" xlink:href=\"#DejaVuSans-105\"/>\r\n       <use x=\"259.570312\" xlink:href=\"#DejaVuSans-111\"/>\r\n       <use x=\"320.751953\" xlink:href=\"#DejaVuSans-110\"/>\r\n       <use x=\"384.130859\" xlink:href=\"#DejaVuSans-45\"/>\r\n       <use x=\"420.230469\" xlink:href=\"#DejaVuSans-111\"/>\r\n       <use x=\"481.412109\" xlink:href=\"#DejaVuSans-102\"/>\r\n       <use x=\"516.539062\" xlink:href=\"#DejaVuSans-45\"/>\r\n       <use x=\"552.623047\" xlink:href=\"#DejaVuSans-99\"/>\r\n       <use x=\"607.603516\" xlink:href=\"#DejaVuSans-111\"/>\r\n       <use x=\"668.785156\" xlink:href=\"#DejaVuSans-109\"/>\r\n       <use x=\"766.197266\" xlink:href=\"#DejaVuSans-109\"/>\r\n       <use x=\"863.609375\" xlink:href=\"#DejaVuSans-111\"/>\r\n       <use x=\"924.791016\" xlink:href=\"#DejaVuSans-110\"/>\r\n       <use x=\"988.169922\" xlink:href=\"#DejaVuSans-45\"/>\r\n       <use x=\"1024.253906\" xlink:href=\"#DejaVuSans-112\"/>\r\n       <use x=\"1087.730469\" xlink:href=\"#DejaVuSans-97\"/>\r\n       <use x=\"1149.009766\" xlink:href=\"#DejaVuSans-114\"/>\r\n       <use x=\"1190.123047\" xlink:href=\"#DejaVuSans-116\"/>\r\n       <use x=\"1229.332031\" xlink:href=\"#DejaVuSans-110\"/>\r\n       <use x=\"1292.710938\" xlink:href=\"#DejaVuSans-101\"/>\r\n       <use x=\"1354.234375\" xlink:href=\"#DejaVuSans-114\"/>\r\n       <use x=\"1395.347656\" xlink:href=\"#DejaVuSans-115\"/>\r\n      </g>\r\n     </g>\r\n    </g>\r\n    <g id=\"xtick_3\">\r\n     <g id=\"text_3\">\r\n      <!-- type-code -->\r\n      <defs>\r\n       <path d=\"M 32.171875 -5.078125 \r\nQ 28.375 -14.84375 24.75 -17.8125 \r\nQ 21.140625 -20.796875 15.09375 -20.796875 \r\nL 7.90625 -20.796875 \r\nL 7.90625 -13.28125 \r\nL 13.1875 -13.28125 \r\nQ 16.890625 -13.28125 18.9375 -11.515625 \r\nQ 21 -9.765625 23.484375 -3.21875 \r\nL 25.09375 0.875 \r\nL 2.984375 54.6875 \r\nL 12.5 54.6875 \r\nL 29.59375 11.921875 \r\nL 46.6875 54.6875 \r\nL 56.203125 54.6875 \r\nz\r\n\" id=\"DejaVuSans-121\"/>\r\n       <path d=\"M 45.40625 46.390625 \r\nL 45.40625 75.984375 \r\nL 54.390625 75.984375 \r\nL 54.390625 0 \r\nL 45.40625 0 \r\nL 45.40625 8.203125 \r\nQ 42.578125 3.328125 38.25 0.953125 \r\nQ 33.9375 -1.421875 27.875 -1.421875 \r\nQ 17.96875 -1.421875 11.734375 6.484375 \r\nQ 5.515625 14.40625 5.515625 27.296875 \r\nQ 5.515625 40.1875 11.734375 48.09375 \r\nQ 17.96875 56 27.875 56 \r\nQ 33.9375 56 38.25 53.625 \r\nQ 42.578125 51.265625 45.40625 46.390625 \r\nz\r\nM 14.796875 27.296875 \r\nQ 14.796875 17.390625 18.875 11.75 \r\nQ 22.953125 6.109375 30.078125 6.109375 \r\nQ 37.203125 6.109375 41.296875 11.75 \r\nQ 45.40625 17.390625 45.40625 27.296875 \r\nQ 45.40625 37.203125 41.296875 42.84375 \r\nQ 37.203125 48.484375 30.078125 48.484375 \r\nQ 22.953125 48.484375 18.875 42.84375 \r\nQ 14.796875 37.203125 14.796875 27.296875 \r\nz\r\n\" id=\"DejaVuSans-100\"/>\r\n      </defs>\r\n      <g style=\"fill:#262626;\" transform=\"translate(276.404687 251.591406)rotate(-90)scale(0.1 -0.1)\">\r\n       <use xlink:href=\"#DejaVuSans-116\"/>\r\n       <use x=\"39.208984\" xlink:href=\"#DejaVuSans-121\"/>\r\n       <use x=\"98.388672\" xlink:href=\"#DejaVuSans-112\"/>\r\n       <use x=\"161.865234\" xlink:href=\"#DejaVuSans-101\"/>\r\n       <use x=\"223.388672\" xlink:href=\"#DejaVuSans-45\"/>\r\n       <use x=\"259.472656\" xlink:href=\"#DejaVuSans-99\"/>\r\n       <use x=\"314.453125\" xlink:href=\"#DejaVuSans-111\"/>\r\n       <use x=\"375.634766\" xlink:href=\"#DejaVuSans-100\"/>\r\n       <use x=\"439.111328\" xlink:href=\"#DejaVuSans-101\"/>\r\n      </g>\r\n     </g>\r\n    </g>\r\n    <g id=\"xtick_4\">\r\n     <g id=\"text_4\">\r\n      <!-- fraction-of-common-go -->\r\n      <defs>\r\n       <path d=\"M 45.40625 27.984375 \r\nQ 45.40625 37.75 41.375 43.109375 \r\nQ 37.359375 48.484375 30.078125 48.484375 \r\nQ 22.859375 48.484375 18.828125 43.109375 \r\nQ 14.796875 37.75 14.796875 27.984375 \r\nQ 14.796875 18.265625 18.828125 12.890625 \r\nQ 22.859375 7.515625 30.078125 7.515625 \r\nQ 37.359375 7.515625 41.375 12.890625 \r\nQ 45.40625 18.265625 45.40625 27.984375 \r\nz\r\nM 54.390625 6.78125 \r\nQ 54.390625 -7.171875 48.1875 -13.984375 \r\nQ 42 -20.796875 29.203125 -20.796875 \r\nQ 24.46875 -20.796875 20.265625 -20.09375 \r\nQ 16.0625 -19.390625 12.109375 -17.921875 \r\nL 12.109375 -9.1875 \r\nQ 16.0625 -11.328125 19.921875 -12.34375 \r\nQ 23.78125 -13.375 27.78125 -13.375 \r\nQ 36.625 -13.375 41.015625 -8.765625 \r\nQ 45.40625 -4.15625 45.40625 5.171875 \r\nL 45.40625 9.625 \r\nQ 42.625 4.78125 38.28125 2.390625 \r\nQ 33.9375 0 27.875 0 \r\nQ 17.828125 0 11.671875 7.65625 \r\nQ 5.515625 15.328125 5.515625 27.984375 \r\nQ 5.515625 40.671875 11.671875 48.328125 \r\nQ 17.828125 56 27.875 56 \r\nQ 33.9375 56 38.28125 53.609375 \r\nQ 42.625 51.21875 45.40625 46.390625 \r\nL 45.40625 54.6875 \r\nL 54.390625 54.6875 \r\nz\r\n\" id=\"DejaVuSans-103\"/>\r\n      </defs>\r\n      <g style=\"fill:#262626;\" transform=\"translate(322.285937 316.414844)rotate(-90)scale(0.1 -0.1)\">\r\n       <use xlink:href=\"#DejaVuSans-102\"/>\r\n       <use x=\"35.205078\" xlink:href=\"#DejaVuSans-114\"/>\r\n       <use x=\"76.318359\" xlink:href=\"#DejaVuSans-97\"/>\r\n       <use x=\"137.597656\" xlink:href=\"#DejaVuSans-99\"/>\r\n       <use x=\"192.578125\" xlink:href=\"#DejaVuSans-116\"/>\r\n       <use x=\"231.787109\" xlink:href=\"#DejaVuSans-105\"/>\r\n       <use x=\"259.570312\" xlink:href=\"#DejaVuSans-111\"/>\r\n       <use x=\"320.751953\" xlink:href=\"#DejaVuSans-110\"/>\r\n       <use x=\"384.130859\" xlink:href=\"#DejaVuSans-45\"/>\r\n       <use x=\"420.230469\" xlink:href=\"#DejaVuSans-111\"/>\r\n       <use x=\"481.412109\" xlink:href=\"#DejaVuSans-102\"/>\r\n       <use x=\"516.539062\" xlink:href=\"#DejaVuSans-45\"/>\r\n       <use x=\"552.623047\" xlink:href=\"#DejaVuSans-99\"/>\r\n       <use x=\"607.603516\" xlink:href=\"#DejaVuSans-111\"/>\r\n       <use x=\"668.785156\" xlink:href=\"#DejaVuSans-109\"/>\r\n       <use x=\"766.197266\" xlink:href=\"#DejaVuSans-109\"/>\r\n       <use x=\"863.609375\" xlink:href=\"#DejaVuSans-111\"/>\r\n       <use x=\"924.791016\" xlink:href=\"#DejaVuSans-110\"/>\r\n       <use x=\"988.169922\" xlink:href=\"#DejaVuSans-45\"/>\r\n       <use x=\"1024.253906\" xlink:href=\"#DejaVuSans-103\"/>\r\n       <use x=\"1087.730469\" xlink:href=\"#DejaVuSans-111\"/>\r\n      </g>\r\n     </g>\r\n    </g>\r\n   </g>\r\n   <g id=\"matplotlib.axis_2\">\r\n    <g id=\"ytick_1\">\r\n     <g id=\"text_5\">\r\n      <!-- number of partners of pairB -->\r\n      <g style=\"fill:#262626;\" transform=\"translate(12.378125 37.739062)scale(0.1 -0.1)\">\r\n       <use xlink:href=\"#DejaVuSans-110\"/>\r\n       <use x=\"63.378906\" xlink:href=\"#DejaVuSans-117\"/>\r\n       <use x=\"126.757812\" xlink:href=\"#DejaVuSans-109\"/>\r\n       <use x=\"224.169922\" xlink:href=\"#DejaVuSans-98\"/>\r\n       <use x=\"287.646484\" xlink:href=\"#DejaVuSans-101\"/>\r\n       <use x=\"349.169922\" xlink:href=\"#DejaVuSans-114\"/>\r\n       <use x=\"390.283203\" xlink:href=\"#DejaVuSans-32\"/>\r\n       <use x=\"422.070312\" xlink:href=\"#DejaVuSans-111\"/>\r\n       <use x=\"483.251953\" xlink:href=\"#DejaVuSans-102\"/>\r\n       <use x=\"518.457031\" xlink:href=\"#DejaVuSans-32\"/>\r\n       <use x=\"550.244141\" xlink:href=\"#DejaVuSans-112\"/>\r\n       <use x=\"613.720703\" xlink:href=\"#DejaVuSans-97\"/>\r\n       <use x=\"675\" xlink:href=\"#DejaVuSans-114\"/>\r\n       <use x=\"716.113281\" xlink:href=\"#DejaVuSans-116\"/>\r\n       <use x=\"755.322266\" xlink:href=\"#DejaVuSans-110\"/>\r\n       <use x=\"818.701172\" xlink:href=\"#DejaVuSans-101\"/>\r\n       <use x=\"880.224609\" xlink:href=\"#DejaVuSans-114\"/>\r\n       <use x=\"921.337891\" xlink:href=\"#DejaVuSans-115\"/>\r\n       <use x=\"973.4375\" xlink:href=\"#DejaVuSans-32\"/>\r\n       <use x=\"1005.224609\" xlink:href=\"#DejaVuSans-111\"/>\r\n       <use x=\"1066.40625\" xlink:href=\"#DejaVuSans-102\"/>\r\n       <use x=\"1101.611328\" xlink:href=\"#DejaVuSans-32\"/>\r\n       <use x=\"1133.398438\" xlink:href=\"#DejaVuSans-112\"/>\r\n       <use x=\"1196.875\" xlink:href=\"#DejaVuSans-97\"/>\r\n       <use x=\"1258.154297\" xlink:href=\"#DejaVuSans-105\"/>\r\n       <use x=\"1285.9375\" xlink:href=\"#DejaVuSans-114\"/>\r\n       <use x=\"1327.050781\" xlink:href=\"#DejaVuSans-66\"/>\r\n      </g>\r\n     </g>\r\n    </g>\r\n    <g id=\"ytick_2\">\r\n     <g id=\"text_6\">\r\n      <!-- fraction-of-common-partners -->\r\n      <g style=\"fill:#262626;\" transform=\"translate(7.2 83.620312)scale(0.1 -0.1)\">\r\n       <use xlink:href=\"#DejaVuSans-102\"/>\r\n       <use x=\"35.205078\" xlink:href=\"#DejaVuSans-114\"/>\r\n       <use x=\"76.318359\" xlink:href=\"#DejaVuSans-97\"/>\r\n       <use x=\"137.597656\" xlink:href=\"#DejaVuSans-99\"/>\r\n       <use x=\"192.578125\" xlink:href=\"#DejaVuSans-116\"/>\r\n       <use x=\"231.787109\" xlink:href=\"#DejaVuSans-105\"/>\r\n       <use x=\"259.570312\" xlink:href=\"#DejaVuSans-111\"/>\r\n       <use x=\"320.751953\" xlink:href=\"#DejaVuSans-110\"/>\r\n       <use x=\"384.130859\" xlink:href=\"#DejaVuSans-45\"/>\r\n       <use x=\"420.230469\" xlink:href=\"#DejaVuSans-111\"/>\r\n       <use x=\"481.412109\" xlink:href=\"#DejaVuSans-102\"/>\r\n       <use x=\"516.539062\" xlink:href=\"#DejaVuSans-45\"/>\r\n       <use x=\"552.623047\" xlink:href=\"#DejaVuSans-99\"/>\r\n       <use x=\"607.603516\" xlink:href=\"#DejaVuSans-111\"/>\r\n       <use x=\"668.785156\" xlink:href=\"#DejaVuSans-109\"/>\r\n       <use x=\"766.197266\" xlink:href=\"#DejaVuSans-109\"/>\r\n       <use x=\"863.609375\" xlink:href=\"#DejaVuSans-111\"/>\r\n       <use x=\"924.791016\" xlink:href=\"#DejaVuSans-110\"/>\r\n       <use x=\"988.169922\" xlink:href=\"#DejaVuSans-45\"/>\r\n       <use x=\"1024.253906\" xlink:href=\"#DejaVuSans-112\"/>\r\n       <use x=\"1087.730469\" xlink:href=\"#DejaVuSans-97\"/>\r\n       <use x=\"1149.009766\" xlink:href=\"#DejaVuSans-114\"/>\r\n       <use x=\"1190.123047\" xlink:href=\"#DejaVuSans-116\"/>\r\n       <use x=\"1229.332031\" xlink:href=\"#DejaVuSans-110\"/>\r\n       <use x=\"1292.710938\" xlink:href=\"#DejaVuSans-101\"/>\r\n       <use x=\"1354.234375\" xlink:href=\"#DejaVuSans-114\"/>\r\n       <use x=\"1395.347656\" xlink:href=\"#DejaVuSans-115\"/>\r\n      </g>\r\n     </g>\r\n    </g>\r\n    <g id=\"ytick_3\">\r\n     <g id=\"text_7\">\r\n      <!-- type-code -->\r\n      <g style=\"fill:#262626;\" transform=\"translate(101.875 129.501562)scale(0.1 -0.1)\">\r\n       <use xlink:href=\"#DejaVuSans-116\"/>\r\n       <use x=\"39.208984\" xlink:href=\"#DejaVuSans-121\"/>\r\n       <use x=\"98.388672\" xlink:href=\"#DejaVuSans-112\"/>\r\n       <use x=\"161.865234\" xlink:href=\"#DejaVuSans-101\"/>\r\n       <use x=\"223.388672\" xlink:href=\"#DejaVuSans-45\"/>\r\n       <use x=\"259.472656\" xlink:href=\"#DejaVuSans-99\"/>\r\n       <use x=\"314.453125\" xlink:href=\"#DejaVuSans-111\"/>\r\n       <use x=\"375.634766\" xlink:href=\"#DejaVuSans-100\"/>\r\n       <use x=\"439.111328\" xlink:href=\"#DejaVuSans-101\"/>\r\n      </g>\r\n     </g>\r\n    </g>\r\n    <g id=\"ytick_4\">\r\n     <g id=\"text_8\">\r\n      <!-- fraction-of-common-go -->\r\n      <g style=\"fill:#262626;\" transform=\"translate(37.051562 175.382812)scale(0.1 -0.1)\">\r\n       <use xlink:href=\"#DejaVuSans-102\"/>\r\n       <use x=\"35.205078\" xlink:href=\"#DejaVuSans-114\"/>\r\n       <use x=\"76.318359\" xlink:href=\"#DejaVuSans-97\"/>\r\n       <use x=\"137.597656\" xlink:href=\"#DejaVuSans-99\"/>\r\n       <use x=\"192.578125\" xlink:href=\"#DejaVuSans-116\"/>\r\n       <use x=\"231.787109\" xlink:href=\"#DejaVuSans-105\"/>\r\n       <use x=\"259.570312\" xlink:href=\"#DejaVuSans-111\"/>\r\n       <use x=\"320.751953\" xlink:href=\"#DejaVuSans-110\"/>\r\n       <use x=\"384.130859\" xlink:href=\"#DejaVuSans-45\"/>\r\n       <use x=\"420.230469\" xlink:href=\"#DejaVuSans-111\"/>\r\n       <use x=\"481.412109\" xlink:href=\"#DejaVuSans-102\"/>\r\n       <use x=\"516.539062\" xlink:href=\"#DejaVuSans-45\"/>\r\n       <use x=\"552.623047\" xlink:href=\"#DejaVuSans-99\"/>\r\n       <use x=\"607.603516\" xlink:href=\"#DejaVuSans-111\"/>\r\n       <use x=\"668.785156\" xlink:href=\"#DejaVuSans-109\"/>\r\n       <use x=\"766.197266\" xlink:href=\"#DejaVuSans-109\"/>\r\n       <use x=\"863.609375\" xlink:href=\"#DejaVuSans-111\"/>\r\n       <use x=\"924.791016\" xlink:href=\"#DejaVuSans-110\"/>\r\n       <use x=\"988.169922\" xlink:href=\"#DejaVuSans-45\"/>\r\n       <use x=\"1024.253906\" xlink:href=\"#DejaVuSans-103\"/>\r\n       <use x=\"1087.730469\" xlink:href=\"#DejaVuSans-111\"/>\r\n      </g>\r\n     </g>\r\n    </g>\r\n   </g>\r\n   <g id=\"QuadMesh_1\">\r\n    <path clip-path=\"url(#pc0d15c1be5)\" d=\"M 158.942187 10.999219 \r\nL 204.823437 10.999219 \r\nL 204.823437 56.880469 \r\nL 158.942187 56.880469 \r\nL 158.942187 10.999219 \r\n\" style=\"fill:none;\"/>\r\n    <path clip-path=\"url(#pc0d15c1be5)\" d=\"M 204.823437 10.999219 \r\nL 250.704687 10.999219 \r\nL 250.704687 56.880469 \r\nL 204.823437 56.880469 \r\nL 204.823437 10.999219 \r\n\" style=\"fill:none;\"/>\r\n    <path clip-path=\"url(#pc0d15c1be5)\" d=\"M 250.704687 10.999219 \r\nL 296.585937 10.999219 \r\nL 296.585937 56.880469 \r\nL 250.704687 56.880469 \r\nL 250.704687 10.999219 \r\n\" style=\"fill:none;\"/>\r\n    <path clip-path=\"url(#pc0d15c1be5)\" d=\"M 296.585937 10.999219 \r\nL 342.467187 10.999219 \r\nL 342.467187 56.880469 \r\nL 296.585937 56.880469 \r\nL 296.585937 10.999219 \r\n\" style=\"fill:none;\"/>\r\n    <path clip-path=\"url(#pc0d15c1be5)\" d=\"M 158.942187 56.880469 \r\nL 204.823437 56.880469 \r\nL 204.823437 102.761719 \r\nL 158.942187 102.761719 \r\nL 158.942187 56.880469 \r\n\" style=\"fill:#247f3d;\"/>\r\n    <path clip-path=\"url(#pc0d15c1be5)\" d=\"M 204.823437 56.880469 \r\nL 250.704687 56.880469 \r\nL 250.704687 102.761719 \r\nL 204.823437 102.761719 \r\nL 204.823437 56.880469 \r\n\" style=\"fill:none;\"/>\r\n    <path clip-path=\"url(#pc0d15c1be5)\" d=\"M 250.704687 56.880469 \r\nL 296.585937 56.880469 \r\nL 296.585937 102.761719 \r\nL 250.704687 102.761719 \r\nL 250.704687 56.880469 \r\n\" style=\"fill:none;\"/>\r\n    <path clip-path=\"url(#pc0d15c1be5)\" d=\"M 296.585937 56.880469 \r\nL 342.467187 56.880469 \r\nL 342.467187 102.761719 \r\nL 296.585937 102.761719 \r\nL 296.585937 56.880469 \r\n\" style=\"fill:none;\"/>\r\n    <path clip-path=\"url(#pc0d15c1be5)\" d=\"M 158.942187 102.761719 \r\nL 204.823437 102.761719 \r\nL 204.823437 148.642969 \r\nL 158.942187 148.642969 \r\nL 158.942187 102.761719 \r\n\" style=\"fill:#eff5ee;\"/>\r\n    <path clip-path=\"url(#pc0d15c1be5)\" d=\"M 204.823437 102.761719 \r\nL 250.704687 102.761719 \r\nL 250.704687 148.642969 \r\nL 204.823437 148.642969 \r\nL 204.823437 102.761719 \r\n\" style=\"fill:#e5f3e1;\"/>\r\n    <path clip-path=\"url(#pc0d15c1be5)\" d=\"M 250.704687 102.761719 \r\nL 296.585937 102.761719 \r\nL 296.585937 148.642969 \r\nL 250.704687 148.642969 \r\nL 250.704687 102.761719 \r\n\" style=\"fill:none;\"/>\r\n    <path clip-path=\"url(#pc0d15c1be5)\" d=\"M 296.585937 102.761719 \r\nL 342.467187 102.761719 \r\nL 342.467187 148.642969 \r\nL 296.585937 148.642969 \r\nL 296.585937 102.761719 \r\n\" style=\"fill:none;\"/>\r\n    <path clip-path=\"url(#pc0d15c1be5)\" d=\"M 158.942187 148.642969 \r\nL 204.823437 148.642969 \r\nL 204.823437 194.524219 \r\nL 158.942187 194.524219 \r\nL 158.942187 148.642969 \r\n\" style=\"fill:#ebf4e8;\"/>\r\n    <path clip-path=\"url(#pc0d15c1be5)\" d=\"M 204.823437 148.642969 \r\nL 250.704687 148.642969 \r\nL 250.704687 194.524219 \r\nL 204.823437 194.524219 \r\nL 204.823437 148.642969 \r\n\" style=\"fill:#c3e7bd;\"/>\r\n    <path clip-path=\"url(#pc0d15c1be5)\" d=\"M 250.704687 148.642969 \r\nL 296.585937 148.642969 \r\nL 296.585937 194.524219 \r\nL 250.704687 194.524219 \r\nL 250.704687 148.642969 \r\n\" style=\"fill:#e7f3e4;\"/>\r\n    <path clip-path=\"url(#pc0d15c1be5)\" d=\"M 296.585937 148.642969 \r\nL 342.467187 148.642969 \r\nL 342.467187 194.524219 \r\nL 296.585937 194.524219 \r\nL 296.585937 148.642969 \r\n\" style=\"fill:none;\"/>\r\n   </g>\r\n  </g>\r\n  <g id=\"axes_2\">\r\n   <g id=\"patch_3\">\r\n    <path clip-path=\"url(#p0034702a49)\" d=\"M 361.052437 194.524219 \r\nL 361.052437 193.807324 \r\nL 361.052437 11.716113 \r\nL 361.052437 10.999219 \r\nL 370.228687 10.999219 \r\nL 370.228687 11.716113 \r\nL 370.228687 193.807324 \r\nL 370.228687 194.524219 \r\nz\r\n\" style=\"fill:#ffffff;stroke:#ffffff;stroke-linejoin:miter;stroke-width:0.01;\"/>\r\n   </g>\r\n   <g id=\"matplotlib.axis_3\"/>\r\n   <g id=\"matplotlib.axis_4\">\r\n    <g id=\"ytick_5\">\r\n     <g id=\"line2d_1\">\r\n      <defs>\r\n       <path d=\"M 0 0 \r\nL 3.5 0 \r\n\" id=\"m0df281437b\" style=\"stroke:#262626;stroke-width:0.8;\"/>\r\n      </defs>\r\n      <g>\r\n       <use style=\"fill:#262626;stroke:#262626;stroke-width:0.8;\" x=\"370.228687\" xlink:href=\"#m0df281437b\" y=\"194.524219\"/>\r\n      </g>\r\n     </g>\r\n     <g id=\"text_9\">\r\n      <!-- −1.00 -->\r\n      <defs>\r\n       <path d=\"M 10.59375 35.5 \r\nL 73.1875 35.5 \r\nL 73.1875 27.203125 \r\nL 10.59375 27.203125 \r\nz\r\n\" id=\"DejaVuSans-8722\"/>\r\n       <path d=\"M 12.40625 8.296875 \r\nL 28.515625 8.296875 \r\nL 28.515625 63.921875 \r\nL 10.984375 60.40625 \r\nL 10.984375 69.390625 \r\nL 28.421875 72.90625 \r\nL 38.28125 72.90625 \r\nL 38.28125 8.296875 \r\nL 54.390625 8.296875 \r\nL 54.390625 0 \r\nL 12.40625 0 \r\nz\r\n\" id=\"DejaVuSans-49\"/>\r\n       <path d=\"M 10.6875 12.40625 \r\nL 21 12.40625 \r\nL 21 0 \r\nL 10.6875 0 \r\nz\r\n\" id=\"DejaVuSans-46\"/>\r\n       <path d=\"M 31.78125 66.40625 \r\nQ 24.171875 66.40625 20.328125 58.90625 \r\nQ 16.5 51.421875 16.5 36.375 \r\nQ 16.5 21.390625 20.328125 13.890625 \r\nQ 24.171875 6.390625 31.78125 6.390625 \r\nQ 39.453125 6.390625 43.28125 13.890625 \r\nQ 47.125 21.390625 47.125 36.375 \r\nQ 47.125 51.421875 43.28125 58.90625 \r\nQ 39.453125 66.40625 31.78125 66.40625 \r\nz\r\nM 31.78125 74.21875 \r\nQ 44.046875 74.21875 50.515625 64.515625 \r\nQ 56.984375 54.828125 56.984375 36.375 \r\nQ 56.984375 17.96875 50.515625 8.265625 \r\nQ 44.046875 -1.421875 31.78125 -1.421875 \r\nQ 19.53125 -1.421875 13.0625 8.265625 \r\nQ 6.59375 17.96875 6.59375 36.375 \r\nQ 6.59375 54.828125 13.0625 64.515625 \r\nQ 19.53125 74.21875 31.78125 74.21875 \r\nz\r\n\" id=\"DejaVuSans-48\"/>\r\n      </defs>\r\n      <g style=\"fill:#262626;\" transform=\"translate(377.228687 198.323437)scale(0.1 -0.1)\">\r\n       <use xlink:href=\"#DejaVuSans-8722\"/>\r\n       <use x=\"83.789062\" xlink:href=\"#DejaVuSans-49\"/>\r\n       <use x=\"147.412109\" xlink:href=\"#DejaVuSans-46\"/>\r\n       <use x=\"179.199219\" xlink:href=\"#DejaVuSans-48\"/>\r\n       <use x=\"242.822266\" xlink:href=\"#DejaVuSans-48\"/>\r\n      </g>\r\n     </g>\r\n    </g>\r\n    <g id=\"ytick_6\">\r\n     <g id=\"line2d_2\">\r\n      <g>\r\n       <use style=\"fill:#262626;stroke:#262626;stroke-width:0.8;\" x=\"370.228687\" xlink:href=\"#m0df281437b\" y=\"171.583594\"/>\r\n      </g>\r\n     </g>\r\n     <g id=\"text_10\">\r\n      <!-- −0.75 -->\r\n      <defs>\r\n       <path d=\"M 8.203125 72.90625 \r\nL 55.078125 72.90625 \r\nL 55.078125 68.703125 \r\nL 28.609375 0 \r\nL 18.3125 0 \r\nL 43.21875 64.59375 \r\nL 8.203125 64.59375 \r\nz\r\n\" id=\"DejaVuSans-55\"/>\r\n       <path d=\"M 10.796875 72.90625 \r\nL 49.515625 72.90625 \r\nL 49.515625 64.59375 \r\nL 19.828125 64.59375 \r\nL 19.828125 46.734375 \r\nQ 21.96875 47.46875 24.109375 47.828125 \r\nQ 26.265625 48.1875 28.421875 48.1875 \r\nQ 40.625 48.1875 47.75 41.5 \r\nQ 54.890625 34.8125 54.890625 23.390625 \r\nQ 54.890625 11.625 47.5625 5.09375 \r\nQ 40.234375 -1.421875 26.90625 -1.421875 \r\nQ 22.3125 -1.421875 17.546875 -0.640625 \r\nQ 12.796875 0.140625 7.71875 1.703125 \r\nL 7.71875 11.625 \r\nQ 12.109375 9.234375 16.796875 8.0625 \r\nQ 21.484375 6.890625 26.703125 6.890625 \r\nQ 35.15625 6.890625 40.078125 11.328125 \r\nQ 45.015625 15.765625 45.015625 23.390625 \r\nQ 45.015625 31 40.078125 35.4375 \r\nQ 35.15625 39.890625 26.703125 39.890625 \r\nQ 22.75 39.890625 18.8125 39.015625 \r\nQ 14.890625 38.140625 10.796875 36.28125 \r\nz\r\n\" id=\"DejaVuSans-53\"/>\r\n      </defs>\r\n      <g style=\"fill:#262626;\" transform=\"translate(377.228687 175.382812)scale(0.1 -0.1)\">\r\n       <use xlink:href=\"#DejaVuSans-8722\"/>\r\n       <use x=\"83.789062\" xlink:href=\"#DejaVuSans-48\"/>\r\n       <use x=\"147.412109\" xlink:href=\"#DejaVuSans-46\"/>\r\n       <use x=\"179.199219\" xlink:href=\"#DejaVuSans-55\"/>\r\n       <use x=\"242.822266\" xlink:href=\"#DejaVuSans-53\"/>\r\n      </g>\r\n     </g>\r\n    </g>\r\n    <g id=\"ytick_7\">\r\n     <g id=\"line2d_3\">\r\n      <g>\r\n       <use style=\"fill:#262626;stroke:#262626;stroke-width:0.8;\" x=\"370.228687\" xlink:href=\"#m0df281437b\" y=\"148.642969\"/>\r\n      </g>\r\n     </g>\r\n     <g id=\"text_11\">\r\n      <!-- −0.50 -->\r\n      <g style=\"fill:#262626;\" transform=\"translate(377.228687 152.442187)scale(0.1 -0.1)\">\r\n       <use xlink:href=\"#DejaVuSans-8722\"/>\r\n       <use x=\"83.789062\" xlink:href=\"#DejaVuSans-48\"/>\r\n       <use x=\"147.412109\" xlink:href=\"#DejaVuSans-46\"/>\r\n       <use x=\"179.199219\" xlink:href=\"#DejaVuSans-53\"/>\r\n       <use x=\"242.822266\" xlink:href=\"#DejaVuSans-48\"/>\r\n      </g>\r\n     </g>\r\n    </g>\r\n    <g id=\"ytick_8\">\r\n     <g id=\"line2d_4\">\r\n      <g>\r\n       <use style=\"fill:#262626;stroke:#262626;stroke-width:0.8;\" x=\"370.228687\" xlink:href=\"#m0df281437b\" y=\"125.702344\"/>\r\n      </g>\r\n     </g>\r\n     <g id=\"text_12\">\r\n      <!-- −0.25 -->\r\n      <defs>\r\n       <path d=\"M 19.1875 8.296875 \r\nL 53.609375 8.296875 \r\nL 53.609375 0 \r\nL 7.328125 0 \r\nL 7.328125 8.296875 \r\nQ 12.9375 14.109375 22.625 23.890625 \r\nQ 32.328125 33.6875 34.8125 36.53125 \r\nQ 39.546875 41.84375 41.421875 45.53125 \r\nQ 43.3125 49.21875 43.3125 52.78125 \r\nQ 43.3125 58.59375 39.234375 62.25 \r\nQ 35.15625 65.921875 28.609375 65.921875 \r\nQ 23.96875 65.921875 18.8125 64.3125 \r\nQ 13.671875 62.703125 7.8125 59.421875 \r\nL 7.8125 69.390625 \r\nQ 13.765625 71.78125 18.9375 73 \r\nQ 24.125 74.21875 28.421875 74.21875 \r\nQ 39.75 74.21875 46.484375 68.546875 \r\nQ 53.21875 62.890625 53.21875 53.421875 \r\nQ 53.21875 48.921875 51.53125 44.890625 \r\nQ 49.859375 40.875 45.40625 35.40625 \r\nQ 44.1875 33.984375 37.640625 27.21875 \r\nQ 31.109375 20.453125 19.1875 8.296875 \r\nz\r\n\" id=\"DejaVuSans-50\"/>\r\n      </defs>\r\n      <g style=\"fill:#262626;\" transform=\"translate(377.228687 129.501562)scale(0.1 -0.1)\">\r\n       <use xlink:href=\"#DejaVuSans-8722\"/>\r\n       <use x=\"83.789062\" xlink:href=\"#DejaVuSans-48\"/>\r\n       <use x=\"147.412109\" xlink:href=\"#DejaVuSans-46\"/>\r\n       <use x=\"179.199219\" xlink:href=\"#DejaVuSans-50\"/>\r\n       <use x=\"242.822266\" xlink:href=\"#DejaVuSans-53\"/>\r\n      </g>\r\n     </g>\r\n    </g>\r\n    <g id=\"ytick_9\">\r\n     <g id=\"line2d_5\">\r\n      <g>\r\n       <use style=\"fill:#262626;stroke:#262626;stroke-width:0.8;\" x=\"370.228687\" xlink:href=\"#m0df281437b\" y=\"102.761719\"/>\r\n      </g>\r\n     </g>\r\n     <g id=\"text_13\">\r\n      <!-- 0.00 -->\r\n      <g style=\"fill:#262626;\" transform=\"translate(377.228687 106.560937)scale(0.1 -0.1)\">\r\n       <use xlink:href=\"#DejaVuSans-48\"/>\r\n       <use x=\"63.623047\" xlink:href=\"#DejaVuSans-46\"/>\r\n       <use x=\"95.410156\" xlink:href=\"#DejaVuSans-48\"/>\r\n       <use x=\"159.033203\" xlink:href=\"#DejaVuSans-48\"/>\r\n      </g>\r\n     </g>\r\n    </g>\r\n    <g id=\"ytick_10\">\r\n     <g id=\"line2d_6\">\r\n      <g>\r\n       <use style=\"fill:#262626;stroke:#262626;stroke-width:0.8;\" x=\"370.228687\" xlink:href=\"#m0df281437b\" y=\"79.821094\"/>\r\n      </g>\r\n     </g>\r\n     <g id=\"text_14\">\r\n      <!-- 0.25 -->\r\n      <g style=\"fill:#262626;\" transform=\"translate(377.228687 83.620312)scale(0.1 -0.1)\">\r\n       <use xlink:href=\"#DejaVuSans-48\"/>\r\n       <use x=\"63.623047\" xlink:href=\"#DejaVuSans-46\"/>\r\n       <use x=\"95.410156\" xlink:href=\"#DejaVuSans-50\"/>\r\n       <use x=\"159.033203\" xlink:href=\"#DejaVuSans-53\"/>\r\n      </g>\r\n     </g>\r\n    </g>\r\n    <g id=\"ytick_11\">\r\n     <g id=\"line2d_7\">\r\n      <g>\r\n       <use style=\"fill:#262626;stroke:#262626;stroke-width:0.8;\" x=\"370.228687\" xlink:href=\"#m0df281437b\" y=\"56.880469\"/>\r\n      </g>\r\n     </g>\r\n     <g id=\"text_15\">\r\n      <!-- 0.50 -->\r\n      <g style=\"fill:#262626;\" transform=\"translate(377.228687 60.679687)scale(0.1 -0.1)\">\r\n       <use xlink:href=\"#DejaVuSans-48\"/>\r\n       <use x=\"63.623047\" xlink:href=\"#DejaVuSans-46\"/>\r\n       <use x=\"95.410156\" xlink:href=\"#DejaVuSans-53\"/>\r\n       <use x=\"159.033203\" xlink:href=\"#DejaVuSans-48\"/>\r\n      </g>\r\n     </g>\r\n    </g>\r\n    <g id=\"ytick_12\">\r\n     <g id=\"line2d_8\">\r\n      <g>\r\n       <use style=\"fill:#262626;stroke:#262626;stroke-width:0.8;\" x=\"370.228687\" xlink:href=\"#m0df281437b\" y=\"33.939844\"/>\r\n      </g>\r\n     </g>\r\n     <g id=\"text_16\">\r\n      <!-- 0.75 -->\r\n      <g style=\"fill:#262626;\" transform=\"translate(377.228687 37.739062)scale(0.1 -0.1)\">\r\n       <use xlink:href=\"#DejaVuSans-48\"/>\r\n       <use x=\"63.623047\" xlink:href=\"#DejaVuSans-46\"/>\r\n       <use x=\"95.410156\" xlink:href=\"#DejaVuSans-55\"/>\r\n       <use x=\"159.033203\" xlink:href=\"#DejaVuSans-53\"/>\r\n      </g>\r\n     </g>\r\n    </g>\r\n    <g id=\"ytick_13\">\r\n     <g id=\"line2d_9\">\r\n      <g>\r\n       <use style=\"fill:#262626;stroke:#262626;stroke-width:0.8;\" x=\"370.228687\" xlink:href=\"#m0df281437b\" y=\"10.999219\"/>\r\n      </g>\r\n     </g>\r\n     <g id=\"text_17\">\r\n      <!-- 1.00 -->\r\n      <g style=\"fill:#262626;\" transform=\"translate(377.228687 14.798437)scale(0.1 -0.1)\">\r\n       <use xlink:href=\"#DejaVuSans-49\"/>\r\n       <use x=\"63.623047\" xlink:href=\"#DejaVuSans-46\"/>\r\n       <use x=\"95.410156\" xlink:href=\"#DejaVuSans-48\"/>\r\n       <use x=\"159.033203\" xlink:href=\"#DejaVuSans-48\"/>\r\n      </g>\r\n     </g>\r\n    </g>\r\n   </g>\r\n   <image height=\"183\" id=\"image9707bb878c\" transform=\"scale(1 -1)translate(0 -183)\" width=\"9\" x=\"361\" xlink:href=\"data:image/png;base64,\r\niVBORw0KGgoAAAANSUhEUgAAAAkAAAC3CAYAAADAUXQVAAAABHNCSVQICAgIfAhkiAAAAUVJREFUWIXVl0GOxDAIBG0g87C97///MrbxPIE6tJCSM+puF+Ak88/+7yiesGlVzYiIpy5yphR1kU0HRUbsnNgRpccBAqSkIw6VAALUOzPQFh3x6bMu8g/INIkdU3LECQQ3YmfEzh9VcEZcZoeUEILu4IHuJ5AJTWYEQtAaHG2wk+BQCa05Cq4alWYE6HTQjkzmVNm9NjhbBKREMjVzcnSxylYK3eOjroF2QzYq6N0ChLCS7HTC4GRUkJKMOEKARuXO8i9pxB2gKO8RKd2bddEZKjsUPFHwAYInOR1SOjribw2OMu27VUqpUnpvcNJgnZ0OQTOndVZddNBNl2BbvrvZDnBiSohTyoLL7KASyNRst1jvyO1Lgq+lQrA2eVGzUQGnQ5zyqJSExGWcdL3TBb+I0ybfKkSp2S5lCJjdauV0XssJBP8BSNQLRxZF7a4AAAAASUVORK5CYII=\" y=\"-11\"/>\r\n   <g id=\"patch_4\">\r\n    <path d=\"M 361.052437 194.524219 \r\nL 361.052437 193.807324 \r\nL 361.052437 11.716113 \r\nL 361.052437 10.999219 \r\nL 370.228687 10.999219 \r\nL 370.228687 11.716113 \r\nL 370.228687 193.807324 \r\nL 370.228687 194.524219 \r\nz\r\n\" style=\"fill:none;\"/>\r\n   </g>\r\n  </g>\r\n </g>\r\n <defs>\r\n  <clipPath id=\"pc0d15c1be5\">\r\n   <rect height=\"183.525\" width=\"183.525\" x=\"158.942187\" y=\"10.999219\"/>\r\n  </clipPath>\r\n  <clipPath id=\"p0034702a49\">\r\n   <rect height=\"183.525\" width=\"9.17625\" x=\"361.052437\" y=\"10.999219\"/>\r\n  </clipPath>\r\n </defs>\r\n</svg>\r\n",
      "image/png": "[encoded data removed]"
     },
     "metadata": {}
    }
   ],
   "source": [
    "corr = df_join.corr()\n",
    "mask = np.zeros_like(corr)\n",
    "mask[np.triu_indices_from(mask)] = True\n",
    "import matplotlib.cm as cm\n",
    "with sns.axes_style(\"white\"):\n",
    "    f, ax = plt.subplots(figsize=(7, 5))\n",
    "    ax = sns.heatmap(corr, mask=mask, vmax=1,vmin=-1 ,square=True,cmap=cm.PRGn)\n",
    "#ax.set_title('Lethality correlation with Mean and std')\n",
    "plt.tight_layout()"
   ]
  },
  {
   "cell_type": "markdown",
   "metadata": {},
   "source": [
    "## For many genes still I need to solve the for loop"
   ]
  },
  {
   "cell_type": "code",
   "execution_count": 228,
   "metadata": {},
   "outputs": [],
   "source": [
    "## for many genes\n",
    "\n",
    "#query=np.unique(np.array(data['gene-query-name']))[10:20]\n",
    "query=[['BEM1'],['BEM3']]\n",
    "common_partner_bem3=common_partners(query=query[1],data=data_specific)\n",
    "common_partner_bem1=common_partners(query=query[0],data=data_specific)\n",
    "\n",
    "\n",
    "common_bem1_bem3=pd.concat([common_partner_bem1,common_partner_bem3],keys=[query[0][0],query[1][0]])"
   ]
  },
  {
   "cell_type": "code",
   "execution_count": 237,
   "metadata": {},
   "outputs": [],
   "source": [
    "common_go_bem1=common_go(data_goterms,common_partner_bem1)\n",
    "common_go_bem3=common_go(data_goterms,common_partner_bem3)"
   ]
  },
  {
   "cell_type": "code",
   "execution_count": 238,
   "metadata": {},
   "outputs": [],
   "source": [
    "common_go_bem1_bem3=pd.concat([common_go_bem1,common_go_bem3],keys=[query[0][0],query[1][0]])"
   ]
  },
  {
   "cell_type": "code",
   "execution_count": 255,
   "metadata": {},
   "outputs": [],
   "source": [
    "df_join_13=common_bem1_bem3.copy()\n",
    "df_join_13.index=np.arange(0,len(df_join_13))\n",
    "df_join_13['fraction-of-common-go']=common_go_bem1_bem3['fraction-of-common-go'].tolist()"
   ]
  },
  {
   "cell_type": "code",
   "execution_count": 256,
   "metadata": {},
   "outputs": [],
   "source": [
    "df_join_13['n_common']=df_join_13['n_common'].astype(np.int)\n",
    "df_join_13['fraction-of-common-partners']=df_join_13['fraction-of-common-partners'].astype(np.int)\n",
    "df_join_13['number of partners of pairB']=df_join_13['number of partners of pairB'].astype(np.int)\n"
   ]
  },
  {
   "cell_type": "code",
   "execution_count": 261,
   "metadata": {},
   "outputs": [],
   "source": [
    "df_specific_join=df_join_13.copy()\n",
    "for i in np.arange(0,len(df_specific_join)):\n",
    "    if df_specific_join.iloc[i,1]=='Synthetic Lethality' or df_specific_join.iloc[i,1]=='Dosage Lethality':\n",
    "        df_specific_join.loc[df_join_13.index[i],'type-code']=1\n",
    "    else:\n",
    "        df_specific_join.loc[df_join_13.index[i],'type-code']=0"
   ]
  },
  {
   "cell_type": "code",
   "execution_count": 264,
   "metadata": {},
   "outputs": [
    {
     "output_type": "execute_result",
     "data": {
      "text/plain": "                             n_common  number of partners of pairB  \\\nn_common                     1.000000                     0.724375   \nnumber of partners of pairB  0.724375                     1.000000   \nfraction-of-common-partners  0.773403                     0.737596   \nfraction-of-common-go        0.212878                     0.122416   \ntype-code                    0.113669                     0.051719   \n\n                             fraction-of-common-partners  \\\nn_common                                        0.773403   \nnumber of partners of pairB                     0.737596   \nfraction-of-common-partners                     1.000000   \nfraction-of-common-go                           0.412417   \ntype-code                                       0.132134   \n\n                             fraction-of-common-go  type-code  \nn_common                                  0.212878   0.113669  \nnumber of partners of pairB               0.122416   0.051719  \nfraction-of-common-partners               0.412417   0.132134  \nfraction-of-common-go                     1.000000   0.121565  \ntype-code                                 0.121565   1.000000  ",
      "text/html": "<div>\n<style scoped>\n    .dataframe tbody tr th:only-of-type {\n        vertical-align: middle;\n    }\n\n    .dataframe tbody tr th {\n        vertical-align: top;\n    }\n\n    .dataframe thead th {\n        text-align: right;\n    }\n</style>\n<table border=\"1\" class=\"dataframe\">\n  <thead>\n    <tr style=\"text-align: right;\">\n      <th></th>\n      <th>n_common</th>\n      <th>number of partners of pairB</th>\n      <th>fraction-of-common-partners</th>\n      <th>fraction-of-common-go</th>\n      <th>type-code</th>\n    </tr>\n  </thead>\n  <tbody>\n    <tr>\n      <th>n_common</th>\n      <td>1.000000</td>\n      <td>0.724375</td>\n      <td>0.773403</td>\n      <td>0.212878</td>\n      <td>0.113669</td>\n    </tr>\n    <tr>\n      <th>number of partners of pairB</th>\n      <td>0.724375</td>\n      <td>1.000000</td>\n      <td>0.737596</td>\n      <td>0.122416</td>\n      <td>0.051719</td>\n    </tr>\n    <tr>\n      <th>fraction-of-common-partners</th>\n      <td>0.773403</td>\n      <td>0.737596</td>\n      <td>1.000000</td>\n      <td>0.412417</td>\n      <td>0.132134</td>\n    </tr>\n    <tr>\n      <th>fraction-of-common-go</th>\n      <td>0.212878</td>\n      <td>0.122416</td>\n      <td>0.412417</td>\n      <td>1.000000</td>\n      <td>0.121565</td>\n    </tr>\n    <tr>\n      <th>type-code</th>\n      <td>0.113669</td>\n      <td>0.051719</td>\n      <td>0.132134</td>\n      <td>0.121565</td>\n      <td>1.000000</td>\n    </tr>\n  </tbody>\n</table>\n</div>"
     },
     "metadata": {},
     "execution_count": 264
    }
   ],
   "source": [
    "df_specific_join.corr()"
   ]
  },
  {
   "cell_type": "code",
   "execution_count": 174,
   "metadata": {},
   "outputs": [],
   "source": [
    "## construction of feature matrix\n",
    "\n",
    "X,y= df_join[['fraction-of-common-partners','fraction-of-common-go']],df_join['type-code']"
   ]
  },
  {
   "cell_type": "code",
   "execution_count": null,
   "metadata": {},
   "outputs": [],
   "source": [
    "## Function to find common (how many) protein domains of one gene with its interactors"
   ]
  }
 ],
 "metadata": {
  "language_info": {
   "codemirror_mode": {
    "name": "ipython",
    "version": 3
   },
   "file_extension": ".py",
   "mimetype": "text/x-python",
   "name": "python",
   "nbconvert_exporter": "python",
   "pygments_lexer": "ipython3",
   "version": "3.7.7-final"
  },
  "orig_nbformat": 2,
  "kernelspec": {
   "name": "python37064bitbaseconda6c8618fc0f0945779f8ded01abbb1089",
   "display_name": "Python 3.7.0 64-bit ('base': conda)"
  }
 },
 "nbformat": 4,
 "nbformat_minor": 2
}