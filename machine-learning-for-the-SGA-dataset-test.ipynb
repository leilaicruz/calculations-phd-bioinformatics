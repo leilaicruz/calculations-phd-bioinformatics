{
 "cells": [
  {
   "cell_type": "markdown",
   "metadata": {},
   "source": [
    "#  Classification of genetic interactions  using Support Vector Machine(SVM)"
   ]
  },
  {
   "cell_type": "markdown",
   "metadata": {},
   "source": [
    "Although cancer classification has improved over the past 30 years, there has been no general approach for identifying new cancer classes (class discovery) or for assigning tumors to known classes (class prediction). \n",
    "The dataset comes from a proof-of-concept study published in 1999 by Golub et al. It showed how new cases of cancer could be classified by gene expression monitoring (via DNA microarray) and thereby provided a general approach for identifying new cancer classes and assigning tumors to known classes.\n",
    "The goal is to classify patients with acute myeloid leukemia (AML) and acute lymphoblastic leukemia (ALL) using the SVM algorithm.\n",
    "\n",
    "Lets start coding :)"
   ]
  },
  {
   "cell_type": "code",
   "execution_count": 31,
   "metadata": {},
   "outputs": [],
   "source": [
    "import pandas as pd\n",
    "import numpy as np\n",
    "import matplotlib.pyplot as plt\n",
    "from collections import defaultdict "
   ]
  },
  {
   "cell_type": "code",
   "execution_count": 82,
   "metadata": {},
   "outputs": [],
   "source": [
    "\n",
    "#############patients/genes########################################\n",
    "\n",
    "data_synthetic_lethals=pd.read_excel(r'C:\\Users\\linigodelacruz\\Documents\\PhD_2018\\Documentation\\Calculations\\Functions\\version-control-functions\\data-from-yeastmine-queries\\data_synthetic_lethals_from_list_yeastmine.xlsx',header=2)\n",
    "data_synthetic_lethals.drop(['Unnamed: 0'],axis=1)\n",
    "\n",
    "## non synthetc lethals\n",
    "data_dosage_rescue=pd.read_excel(r'C:\\Users\\linigodelacruz\\Documents\\PhD_2018\\Documentation\\Calculations\\Functions\\version-control-functions\\data-from-yeastmine-queries\\data_dosage_rescue_from_list_yeastmine.xlsx',header=2)\n",
    "data_dosage_rescue.drop(['Unnamed: 0'],axis=1)\n",
    "\n",
    "\n",
    "##################features(data to use for the prediction)###############################\n",
    "##curated data on slim go terms in budding yeast SGD downloads\n",
    "data_raw_slim_go=pd.read_excel(r'C:\\Users\\linigodelacruz\\Documents\\PhD_2018\\Documentation\\Calculations\\data_sgd\\slim-goterms-filtered-data.xlsx',header=0,encoding=\"utf-8-sig\")\n",
    "\n",
    "## published data in the cellmap.org 2016 \n",
    "data_fitness_sga=pd.read_excel(r'C:\\Users\\linigodelacruz\\Documents\\PhD_2018\\Documentation\\Calculations\\SGA-Boone-LAB\\Data File S1. Raw genetic interaction datasets_ Pair-wise interaction format\\Data-fitness.xlsx',header=0,sheet_name='NxN')\n",
    "\n",
    "## curated data set on interactions in budding yeast SGD downloads\n",
    "data_raw_interact=pd.read_excel(r'C:\\Users\\linigodelacruz\\Documents\\PhD_2018\\Documentation\\Calculations\\data_sgd\\interaction-filtered-data.xlsx',header=0,encoding=\"utf-8-sig\")\n",
    "\n",
    "\n",
    "data_raw_slim_go.columns=['Gene','gene-id','go-aspect','go-term','go-id','feature-type' ]\n",
    "data_raw_interact.columns=['Gene', 'Interactor', 'Assay', 'Annotation', 'Notes','Phenotype','Reference-SGD','citation']\n",
    "data_fitness_sga.columns=['query-strain','query-allele-name','array-strain','array-allele-name','array-type','score','p-value','query-fitness','array-fitness','double-fitness','double-fitness-std']\n",
    ""
   ]
  },
  {
   "cell_type": "code",
   "execution_count": 89,
   "metadata": {},
   "outputs": [
    {
     "output_type": "execute_result",
     "data": {
      "text/plain": "                  1  lethal                    2                          3  \\\n0       cell cortex       1            cytoplasm               cytoskeleton   \n1       cell cortex       1         cellular bud                  cytoplasm   \n2       cell cortex       1         cellular bud                  cytoplasm   \n3       cell cortex       1            cytoplasm               cytoskeleton   \n4         cytoplasm       1  endomembrane system      endoplasmic reticulum   \n5         cytoplasm       1        mitochondrion                  nucleolus   \n6       cell cortex       1         cellular bud                  cytoplasm   \n7         cytoplasm       1             membrane            plasma membrane   \n8         nucleolus       1              nucleus   unfolded protein binding   \n9         cytoplasm       1  endomembrane system      endoplasmic reticulum   \n10        cytoplasm       1              nucleus         molecular_function   \n11      cell cortex       1            cytoplasm               cytoskeleton   \n12      cell cortex       1         cellular bud                  cytoplasm   \n13      cell cortex       1            cytoplasm  enzyme regulator activity   \n14        nucleolus       1              nucleus         molecular_function   \n15        cytoplasm       1              nucleus                      other   \n16     cellular bud       1            cytoplasm              mitochondrion   \n17  Golgi apparatus       1            cytoplasm        cytoplasmic vesicle   \n18        cytoplasm       1  endomembrane system      endoplasmic reticulum   \n19      cell cortex       0         cellular bud                  cytoplasm   \n20     cellular bud       0            cytoplasm        cytoplasmic vesicle   \n21      cell cortex       0         cellular bud                  cytoplasm   \n22        cytoplasm       0          RNA binding               mRNA binding   \n23        cytoplasm       0             membrane            plasma membrane   \n24      cell cortex       0         cellular bud                  cytoplasm   \n25      cell cortex       0         cellular bud                  cytoplasm   \n\n                                       4                                    5  \\\n0                                nucleus             site of polarized growth   \n1                               membrane                        mitochondrion   \n2                           cytoskeleton                             membrane   \n3                               membrane                      plasma membrane   \n4                oxidoreductase activity              lipid metabolic process   \n5                                nucleus                          RNA binding   \n6                           cytoskeleton                             membrane   \n7           cytoskeletal protein binding                          ion binding   \n8             protein complex biogenesis                      rRNA processing   \n9                               membrane                   molecular_function   \n10                 RNA catabolic process                      rRNA processing   \n11              site of polarized growth         cytoskeletal protein binding   \n12                          cytoskeleton                             membrane   \n13  cell wall organization or biogenesis            cytoskeleton organization   \n14                       rRNA processing   ribosomal small subunit biogenesis   \n15                       protein folding  regulation of DNA metabolic process   \n16                               nucleus             site of polarized growth   \n17                   endomembrane system                endoplasmic reticulum   \n18                              membrane                 transferase activity   \n19                          cytoskeleton                             membrane   \n20                          cytoskeleton                  endomembrane system   \n21                          cytoskeleton             site of polarized growth   \n22               cytoplasmic translation                                 SSA1   \n23              unfolded protein binding                      protein folding   \n24                          cytoskeleton             site of polarized growth   \n25                          cytoskeleton             site of polarized growth   \n\n                                                    6  \\\n0                        cytoskeletal protein binding   \n1                                     plasma membrane   \n2                                     plasma membrane   \n3                        cytoskeletal protein binding   \n4                                                SSS1   \n5                                     rRNA processing   \n6                                             nucleus   \n7                                       lipid binding   \n8                  ribosomal small subunit biogenesis   \n9                                     lipid transport   \n10                                  snoRNA processing   \n11                                      lipid binding   \n12                                    plasma membrane   \n13               regulation of organelle organization   \n14                                               FAT1   \n15               regulation of organelle organization   \n16                                    kinase activity   \n17                                           membrane   \n18  transferase activity, transferring glycosyl gr...   \n19                                    plasma membrane   \n20                                           membrane   \n21                          protein binding, bridging   \n22                                               ERP2   \n23                                               DEP1   \n24                       cytoskeletal protein binding   \n25                       cytoskeletal protein binding   \n\n                                     7                                     8  \\\n0                          cytokinesis             cytoskeleton organization   \n1             site of polarized growth                           RNA binding   \n2             site of polarized growth          cytoskeletal protein binding   \n3              Golgi vesicle transport             cytoskeleton organization   \n4                                 HOM2                                  ATP5   \n5   ribosomal small subunit biogenesis                                 UTP20   \n6                      plasma membrane              site of polarized growth   \n7            cytoskeleton organization            protein complex biogenesis   \n8                                 RIO2                                  NOB1   \n9                                 FLO9                                  NDE2   \n10                               UTP20                                 RRP43   \n11                         endocytosis                                  VPS8   \n12            site of polarized growth          cytoskeletal protein binding   \n13                           signaling                                  VPS8   \n14                                DUG2                                  TRM3   \n15               telomere organization                                  DEP1   \n16          signal transducer activity                  transferase activity   \n17                               other               Golgi vesicle transport   \n18               protein glycosylation                                  VPS8   \n19            site of polarized growth                                 other   \n20            site of polarized growth                               vacuole   \n21                        cell budding  cell wall organization or biogenesis   \n22                               FUN14                                  SWC3   \n23                                SWD1                                  SLA1   \n24                        cell budding             cytoskeleton organization   \n25                        cell budding                           cytokinesis   \n\n                                       9  ...      866      867      868  \\\n0             protein complex biogenesis  ...  no-info  no-info  no-info   \n1              enzyme regulator activity  ...  no-info  no-info  no-info   \n2              cytoskeleton organization  ...  no-info  no-info  no-info   \n3                            endocytosis  ...  no-info  no-info  no-info   \n4                                  ERG28  ...  no-info  no-info  no-info   \n5                                  UTP20  ...  no-info  no-info  no-info   \n6              protein binding, bridging  ...  no-info  no-info  no-info   \n7   regulation of organelle organization  ...  no-info  no-info  no-info   \n8                                   KEL3  ...  no-info  no-info  no-info   \n9                                   RAD9  ...  no-info  no-info  no-info   \n10                                 RRP43  ...  no-info  no-info  no-info   \n11                                  VPS8  ...  no-info  no-info  no-info   \n12             protein binding, bridging  ...  no-info  no-info  no-info   \n13                                  PMT2  ...  no-info  no-info  no-info   \n14                                 SAS10  ...  no-info  no-info  no-info   \n15                                  BDH1  ...  no-info  no-info  no-info   \n16                          RNA splicing  ...  no-info  no-info  no-info   \n17                       membrane fusion  ...  no-info  no-info  no-info   \n18                                  SSA1  ...  no-info  no-info  no-info   \n19                          cell budding  ...  no-info  no-info  no-info   \n20          cytoskeletal protein binding  ...  no-info  no-info  no-info   \n21                           cytokinesis  ...  no-info  no-info  no-info   \n22                                  DEP1  ...  no-info     CUR1  no-info   \n23                                  PET9  ...  no-info  no-info  no-info   \n24                            exocytosis  ...  no-info  no-info  no-info   \n25             cytoskeleton organization  ...  no-info  no-info  no-info   \n\n        869      870      871      872      873      874      875  \n0   no-info  no-info  no-info  no-info  no-info  no-info  no-info  \n1   no-info  no-info  no-info  no-info  no-info  no-info  no-info  \n2   no-info  no-info  no-info  no-info  no-info  no-info  no-info  \n3   no-info  no-info  no-info  no-info  no-info  no-info  no-info  \n4   no-info  no-info  no-info  no-info  no-info  no-info  no-info  \n5   no-info  no-info  no-info  no-info  no-info  no-info  no-info  \n6   no-info  no-info  no-info  no-info  no-info  no-info  no-info  \n7   no-info  no-info  no-info  no-info  no-info  no-info  no-info  \n8   no-info  no-info  no-info  no-info  no-info  no-info  no-info  \n9   no-info  no-info  no-info  no-info  no-info  no-info  no-info  \n10  no-info  no-info  no-info  no-info  no-info  no-info  no-info  \n11  no-info  no-info  no-info  no-info  no-info  no-info  no-info  \n12  no-info  no-info  no-info  no-info  no-info  no-info  no-info  \n13  no-info  no-info  no-info  no-info  no-info  no-info  no-info  \n14  no-info  no-info  no-info  no-info  no-info  no-info  no-info  \n15  no-info  no-info  no-info  no-info  no-info  no-info  no-info  \n16  no-info  no-info  no-info  no-info  no-info  no-info  no-info  \n17  no-info  no-info  no-info  no-info  no-info  no-info  no-info  \n18  no-info  no-info  no-info  no-info  no-info  no-info  no-info  \n19  no-info  no-info  no-info  no-info  no-info  no-info  no-info  \n20  no-info  no-info  no-info  no-info  no-info  no-info  no-info  \n21  no-info  no-info  no-info  no-info  no-info  no-info  no-info  \n22     BET2     SMX3     DPM1    RPO26     MLC2     SKI3     ARR1  \n23  no-info  no-info  no-info  no-info  no-info  no-info  no-info  \n24  no-info  no-info  no-info  no-info  no-info  no-info  no-info  \n25  no-info  no-info  no-info  no-info  no-info  no-info  no-info  \n\n[26 rows x 876 columns]",
      "text/html": "<div>\n<style scoped>\n    .dataframe tbody tr th:only-of-type {\n        vertical-align: middle;\n    }\n\n    .dataframe tbody tr th {\n        vertical-align: top;\n    }\n\n    .dataframe thead th {\n        text-align: right;\n    }\n</style>\n<table border=\"1\" class=\"dataframe\">\n  <thead>\n    <tr style=\"text-align: right;\">\n      <th></th>\n      <th>1</th>\n      <th>lethal</th>\n      <th>2</th>\n      <th>3</th>\n      <th>4</th>\n      <th>5</th>\n      <th>6</th>\n      <th>7</th>\n      <th>8</th>\n      <th>9</th>\n      <th>...</th>\n      <th>866</th>\n      <th>867</th>\n      <th>868</th>\n      <th>869</th>\n      <th>870</th>\n      <th>871</th>\n      <th>872</th>\n      <th>873</th>\n      <th>874</th>\n      <th>875</th>\n    </tr>\n  </thead>\n  <tbody>\n    <tr>\n      <th>0</th>\n      <td>cell cortex</td>\n      <td>1</td>\n      <td>cytoplasm</td>\n      <td>cytoskeleton</td>\n      <td>nucleus</td>\n      <td>site of polarized growth</td>\n      <td>cytoskeletal protein binding</td>\n      <td>cytokinesis</td>\n      <td>cytoskeleton organization</td>\n      <td>protein complex biogenesis</td>\n      <td>...</td>\n      <td>no-info</td>\n      <td>no-info</td>\n      <td>no-info</td>\n      <td>no-info</td>\n      <td>no-info</td>\n      <td>no-info</td>\n      <td>no-info</td>\n      <td>no-info</td>\n      <td>no-info</td>\n      <td>no-info</td>\n    </tr>\n    <tr>\n      <th>1</th>\n      <td>cell cortex</td>\n      <td>1</td>\n      <td>cellular bud</td>\n      <td>cytoplasm</td>\n      <td>membrane</td>\n      <td>mitochondrion</td>\n      <td>plasma membrane</td>\n      <td>site of polarized growth</td>\n      <td>RNA binding</td>\n      <td>enzyme regulator activity</td>\n      <td>...</td>\n      <td>no-info</td>\n      <td>no-info</td>\n      <td>no-info</td>\n      <td>no-info</td>\n      <td>no-info</td>\n      <td>no-info</td>\n      <td>no-info</td>\n      <td>no-info</td>\n      <td>no-info</td>\n      <td>no-info</td>\n    </tr>\n    <tr>\n      <th>2</th>\n      <td>cell cortex</td>\n      <td>1</td>\n      <td>cellular bud</td>\n      <td>cytoplasm</td>\n      <td>cytoskeleton</td>\n      <td>membrane</td>\n      <td>plasma membrane</td>\n      <td>site of polarized growth</td>\n      <td>cytoskeletal protein binding</td>\n      <td>cytoskeleton organization</td>\n      <td>...</td>\n      <td>no-info</td>\n      <td>no-info</td>\n      <td>no-info</td>\n      <td>no-info</td>\n      <td>no-info</td>\n      <td>no-info</td>\n      <td>no-info</td>\n      <td>no-info</td>\n      <td>no-info</td>\n      <td>no-info</td>\n    </tr>\n    <tr>\n      <th>3</th>\n      <td>cell cortex</td>\n      <td>1</td>\n      <td>cytoplasm</td>\n      <td>cytoskeleton</td>\n      <td>membrane</td>\n      <td>plasma membrane</td>\n      <td>cytoskeletal protein binding</td>\n      <td>Golgi vesicle transport</td>\n      <td>cytoskeleton organization</td>\n      <td>endocytosis</td>\n      <td>...</td>\n      <td>no-info</td>\n      <td>no-info</td>\n      <td>no-info</td>\n      <td>no-info</td>\n      <td>no-info</td>\n      <td>no-info</td>\n      <td>no-info</td>\n      <td>no-info</td>\n      <td>no-info</td>\n      <td>no-info</td>\n    </tr>\n    <tr>\n      <th>4</th>\n      <td>cytoplasm</td>\n      <td>1</td>\n      <td>endomembrane system</td>\n      <td>endoplasmic reticulum</td>\n      <td>oxidoreductase activity</td>\n      <td>lipid metabolic process</td>\n      <td>SSS1</td>\n      <td>HOM2</td>\n      <td>ATP5</td>\n      <td>ERG28</td>\n      <td>...</td>\n      <td>no-info</td>\n      <td>no-info</td>\n      <td>no-info</td>\n      <td>no-info</td>\n      <td>no-info</td>\n      <td>no-info</td>\n      <td>no-info</td>\n      <td>no-info</td>\n      <td>no-info</td>\n      <td>no-info</td>\n    </tr>\n    <tr>\n      <th>5</th>\n      <td>cytoplasm</td>\n      <td>1</td>\n      <td>mitochondrion</td>\n      <td>nucleolus</td>\n      <td>nucleus</td>\n      <td>RNA binding</td>\n      <td>rRNA processing</td>\n      <td>ribosomal small subunit biogenesis</td>\n      <td>UTP20</td>\n      <td>UTP20</td>\n      <td>...</td>\n      <td>no-info</td>\n      <td>no-info</td>\n      <td>no-info</td>\n      <td>no-info</td>\n      <td>no-info</td>\n      <td>no-info</td>\n      <td>no-info</td>\n      <td>no-info</td>\n      <td>no-info</td>\n      <td>no-info</td>\n    </tr>\n    <tr>\n      <th>6</th>\n      <td>cell cortex</td>\n      <td>1</td>\n      <td>cellular bud</td>\n      <td>cytoplasm</td>\n      <td>cytoskeleton</td>\n      <td>membrane</td>\n      <td>nucleus</td>\n      <td>plasma membrane</td>\n      <td>site of polarized growth</td>\n      <td>protein binding, bridging</td>\n      <td>...</td>\n      <td>no-info</td>\n      <td>no-info</td>\n      <td>no-info</td>\n      <td>no-info</td>\n      <td>no-info</td>\n      <td>no-info</td>\n      <td>no-info</td>\n      <td>no-info</td>\n      <td>no-info</td>\n      <td>no-info</td>\n    </tr>\n    <tr>\n      <th>7</th>\n      <td>cytoplasm</td>\n      <td>1</td>\n      <td>membrane</td>\n      <td>plasma membrane</td>\n      <td>cytoskeletal protein binding</td>\n      <td>ion binding</td>\n      <td>lipid binding</td>\n      <td>cytoskeleton organization</td>\n      <td>protein complex biogenesis</td>\n      <td>regulation of organelle organization</td>\n      <td>...</td>\n      <td>no-info</td>\n      <td>no-info</td>\n      <td>no-info</td>\n      <td>no-info</td>\n      <td>no-info</td>\n      <td>no-info</td>\n      <td>no-info</td>\n      <td>no-info</td>\n      <td>no-info</td>\n      <td>no-info</td>\n    </tr>\n    <tr>\n      <th>8</th>\n      <td>nucleolus</td>\n      <td>1</td>\n      <td>nucleus</td>\n      <td>unfolded protein binding</td>\n      <td>protein complex biogenesis</td>\n      <td>rRNA processing</td>\n      <td>ribosomal small subunit biogenesis</td>\n      <td>RIO2</td>\n      <td>NOB1</td>\n      <td>KEL3</td>\n      <td>...</td>\n      <td>no-info</td>\n      <td>no-info</td>\n      <td>no-info</td>\n      <td>no-info</td>\n      <td>no-info</td>\n      <td>no-info</td>\n      <td>no-info</td>\n      <td>no-info</td>\n      <td>no-info</td>\n      <td>no-info</td>\n    </tr>\n    <tr>\n      <th>9</th>\n      <td>cytoplasm</td>\n      <td>1</td>\n      <td>endomembrane system</td>\n      <td>endoplasmic reticulum</td>\n      <td>membrane</td>\n      <td>molecular_function</td>\n      <td>lipid transport</td>\n      <td>FLO9</td>\n      <td>NDE2</td>\n      <td>RAD9</td>\n      <td>...</td>\n      <td>no-info</td>\n      <td>no-info</td>\n      <td>no-info</td>\n      <td>no-info</td>\n      <td>no-info</td>\n      <td>no-info</td>\n      <td>no-info</td>\n      <td>no-info</td>\n      <td>no-info</td>\n      <td>no-info</td>\n    </tr>\n    <tr>\n      <th>10</th>\n      <td>cytoplasm</td>\n      <td>1</td>\n      <td>nucleus</td>\n      <td>molecular_function</td>\n      <td>RNA catabolic process</td>\n      <td>rRNA processing</td>\n      <td>snoRNA processing</td>\n      <td>UTP20</td>\n      <td>RRP43</td>\n      <td>RRP43</td>\n      <td>...</td>\n      <td>no-info</td>\n      <td>no-info</td>\n      <td>no-info</td>\n      <td>no-info</td>\n      <td>no-info</td>\n      <td>no-info</td>\n      <td>no-info</td>\n      <td>no-info</td>\n      <td>no-info</td>\n      <td>no-info</td>\n    </tr>\n    <tr>\n      <th>11</th>\n      <td>cell cortex</td>\n      <td>1</td>\n      <td>cytoplasm</td>\n      <td>cytoskeleton</td>\n      <td>site of polarized growth</td>\n      <td>cytoskeletal protein binding</td>\n      <td>lipid binding</td>\n      <td>endocytosis</td>\n      <td>VPS8</td>\n      <td>VPS8</td>\n      <td>...</td>\n      <td>no-info</td>\n      <td>no-info</td>\n      <td>no-info</td>\n      <td>no-info</td>\n      <td>no-info</td>\n      <td>no-info</td>\n      <td>no-info</td>\n      <td>no-info</td>\n      <td>no-info</td>\n      <td>no-info</td>\n    </tr>\n    <tr>\n      <th>12</th>\n      <td>cell cortex</td>\n      <td>1</td>\n      <td>cellular bud</td>\n      <td>cytoplasm</td>\n      <td>cytoskeleton</td>\n      <td>membrane</td>\n      <td>plasma membrane</td>\n      <td>site of polarized growth</td>\n      <td>cytoskeletal protein binding</td>\n      <td>protein binding, bridging</td>\n      <td>...</td>\n      <td>no-info</td>\n      <td>no-info</td>\n      <td>no-info</td>\n      <td>no-info</td>\n      <td>no-info</td>\n      <td>no-info</td>\n      <td>no-info</td>\n      <td>no-info</td>\n      <td>no-info</td>\n      <td>no-info</td>\n    </tr>\n    <tr>\n      <th>13</th>\n      <td>cell cortex</td>\n      <td>1</td>\n      <td>cytoplasm</td>\n      <td>enzyme regulator activity</td>\n      <td>cell wall organization or biogenesis</td>\n      <td>cytoskeleton organization</td>\n      <td>regulation of organelle organization</td>\n      <td>signaling</td>\n      <td>VPS8</td>\n      <td>PMT2</td>\n      <td>...</td>\n      <td>no-info</td>\n      <td>no-info</td>\n      <td>no-info</td>\n      <td>no-info</td>\n      <td>no-info</td>\n      <td>no-info</td>\n      <td>no-info</td>\n      <td>no-info</td>\n      <td>no-info</td>\n      <td>no-info</td>\n    </tr>\n    <tr>\n      <th>14</th>\n      <td>nucleolus</td>\n      <td>1</td>\n      <td>nucleus</td>\n      <td>molecular_function</td>\n      <td>rRNA processing</td>\n      <td>ribosomal small subunit biogenesis</td>\n      <td>FAT1</td>\n      <td>DUG2</td>\n      <td>TRM3</td>\n      <td>SAS10</td>\n      <td>...</td>\n      <td>no-info</td>\n      <td>no-info</td>\n      <td>no-info</td>\n      <td>no-info</td>\n      <td>no-info</td>\n      <td>no-info</td>\n      <td>no-info</td>\n      <td>no-info</td>\n      <td>no-info</td>\n      <td>no-info</td>\n    </tr>\n    <tr>\n      <th>15</th>\n      <td>cytoplasm</td>\n      <td>1</td>\n      <td>nucleus</td>\n      <td>other</td>\n      <td>protein folding</td>\n      <td>regulation of DNA metabolic process</td>\n      <td>regulation of organelle organization</td>\n      <td>telomere organization</td>\n      <td>DEP1</td>\n      <td>BDH1</td>\n      <td>...</td>\n      <td>no-info</td>\n      <td>no-info</td>\n      <td>no-info</td>\n      <td>no-info</td>\n      <td>no-info</td>\n      <td>no-info</td>\n      <td>no-info</td>\n      <td>no-info</td>\n      <td>no-info</td>\n      <td>no-info</td>\n    </tr>\n    <tr>\n      <th>16</th>\n      <td>cellular bud</td>\n      <td>1</td>\n      <td>cytoplasm</td>\n      <td>mitochondrion</td>\n      <td>nucleus</td>\n      <td>site of polarized growth</td>\n      <td>kinase activity</td>\n      <td>signal transducer activity</td>\n      <td>transferase activity</td>\n      <td>RNA splicing</td>\n      <td>...</td>\n      <td>no-info</td>\n      <td>no-info</td>\n      <td>no-info</td>\n      <td>no-info</td>\n      <td>no-info</td>\n      <td>no-info</td>\n      <td>no-info</td>\n      <td>no-info</td>\n      <td>no-info</td>\n      <td>no-info</td>\n    </tr>\n    <tr>\n      <th>17</th>\n      <td>Golgi apparatus</td>\n      <td>1</td>\n      <td>cytoplasm</td>\n      <td>cytoplasmic vesicle</td>\n      <td>endomembrane system</td>\n      <td>endoplasmic reticulum</td>\n      <td>membrane</td>\n      <td>other</td>\n      <td>Golgi vesicle transport</td>\n      <td>membrane fusion</td>\n      <td>...</td>\n      <td>no-info</td>\n      <td>no-info</td>\n      <td>no-info</td>\n      <td>no-info</td>\n      <td>no-info</td>\n      <td>no-info</td>\n      <td>no-info</td>\n      <td>no-info</td>\n      <td>no-info</td>\n      <td>no-info</td>\n    </tr>\n    <tr>\n      <th>18</th>\n      <td>cytoplasm</td>\n      <td>1</td>\n      <td>endomembrane system</td>\n      <td>endoplasmic reticulum</td>\n      <td>membrane</td>\n      <td>transferase activity</td>\n      <td>transferase activity, transferring glycosyl gr...</td>\n      <td>protein glycosylation</td>\n      <td>VPS8</td>\n      <td>SSA1</td>\n      <td>...</td>\n      <td>no-info</td>\n      <td>no-info</td>\n      <td>no-info</td>\n      <td>no-info</td>\n      <td>no-info</td>\n      <td>no-info</td>\n      <td>no-info</td>\n      <td>no-info</td>\n      <td>no-info</td>\n      <td>no-info</td>\n    </tr>\n    <tr>\n      <th>19</th>\n      <td>cell cortex</td>\n      <td>0</td>\n      <td>cellular bud</td>\n      <td>cytoplasm</td>\n      <td>cytoskeleton</td>\n      <td>membrane</td>\n      <td>plasma membrane</td>\n      <td>site of polarized growth</td>\n      <td>other</td>\n      <td>cell budding</td>\n      <td>...</td>\n      <td>no-info</td>\n      <td>no-info</td>\n      <td>no-info</td>\n      <td>no-info</td>\n      <td>no-info</td>\n      <td>no-info</td>\n      <td>no-info</td>\n      <td>no-info</td>\n      <td>no-info</td>\n      <td>no-info</td>\n    </tr>\n    <tr>\n      <th>20</th>\n      <td>cellular bud</td>\n      <td>0</td>\n      <td>cytoplasm</td>\n      <td>cytoplasmic vesicle</td>\n      <td>cytoskeleton</td>\n      <td>endomembrane system</td>\n      <td>membrane</td>\n      <td>site of polarized growth</td>\n      <td>vacuole</td>\n      <td>cytoskeletal protein binding</td>\n      <td>...</td>\n      <td>no-info</td>\n      <td>no-info</td>\n      <td>no-info</td>\n      <td>no-info</td>\n      <td>no-info</td>\n      <td>no-info</td>\n      <td>no-info</td>\n      <td>no-info</td>\n      <td>no-info</td>\n      <td>no-info</td>\n    </tr>\n    <tr>\n      <th>21</th>\n      <td>cell cortex</td>\n      <td>0</td>\n      <td>cellular bud</td>\n      <td>cytoplasm</td>\n      <td>cytoskeleton</td>\n      <td>site of polarized growth</td>\n      <td>protein binding, bridging</td>\n      <td>cell budding</td>\n      <td>cell wall organization or biogenesis</td>\n      <td>cytokinesis</td>\n      <td>...</td>\n      <td>no-info</td>\n      <td>no-info</td>\n      <td>no-info</td>\n      <td>no-info</td>\n      <td>no-info</td>\n      <td>no-info</td>\n      <td>no-info</td>\n      <td>no-info</td>\n      <td>no-info</td>\n      <td>no-info</td>\n    </tr>\n    <tr>\n      <th>22</th>\n      <td>cytoplasm</td>\n      <td>0</td>\n      <td>RNA binding</td>\n      <td>mRNA binding</td>\n      <td>cytoplasmic translation</td>\n      <td>SSA1</td>\n      <td>ERP2</td>\n      <td>FUN14</td>\n      <td>SWC3</td>\n      <td>DEP1</td>\n      <td>...</td>\n      <td>no-info</td>\n      <td>CUR1</td>\n      <td>no-info</td>\n      <td>BET2</td>\n      <td>SMX3</td>\n      <td>DPM1</td>\n      <td>RPO26</td>\n      <td>MLC2</td>\n      <td>SKI3</td>\n      <td>ARR1</td>\n    </tr>\n    <tr>\n      <th>23</th>\n      <td>cytoplasm</td>\n      <td>0</td>\n      <td>membrane</td>\n      <td>plasma membrane</td>\n      <td>unfolded protein binding</td>\n      <td>protein folding</td>\n      <td>DEP1</td>\n      <td>SWD1</td>\n      <td>SLA1</td>\n      <td>PET9</td>\n      <td>...</td>\n      <td>no-info</td>\n      <td>no-info</td>\n      <td>no-info</td>\n      <td>no-info</td>\n      <td>no-info</td>\n      <td>no-info</td>\n      <td>no-info</td>\n      <td>no-info</td>\n      <td>no-info</td>\n      <td>no-info</td>\n    </tr>\n    <tr>\n      <th>24</th>\n      <td>cell cortex</td>\n      <td>0</td>\n      <td>cellular bud</td>\n      <td>cytoplasm</td>\n      <td>cytoskeleton</td>\n      <td>site of polarized growth</td>\n      <td>cytoskeletal protein binding</td>\n      <td>cell budding</td>\n      <td>cytoskeleton organization</td>\n      <td>exocytosis</td>\n      <td>...</td>\n      <td>no-info</td>\n      <td>no-info</td>\n      <td>no-info</td>\n      <td>no-info</td>\n      <td>no-info</td>\n      <td>no-info</td>\n      <td>no-info</td>\n      <td>no-info</td>\n      <td>no-info</td>\n      <td>no-info</td>\n    </tr>\n    <tr>\n      <th>25</th>\n      <td>cell cortex</td>\n      <td>0</td>\n      <td>cellular bud</td>\n      <td>cytoplasm</td>\n      <td>cytoskeleton</td>\n      <td>site of polarized growth</td>\n      <td>cytoskeletal protein binding</td>\n      <td>cell budding</td>\n      <td>cytokinesis</td>\n      <td>cytoskeleton organization</td>\n      <td>...</td>\n      <td>no-info</td>\n      <td>no-info</td>\n      <td>no-info</td>\n      <td>no-info</td>\n      <td>no-info</td>\n      <td>no-info</td>\n      <td>no-info</td>\n      <td>no-info</td>\n      <td>no-info</td>\n      <td>no-info</td>\n    </tr>\n  </tbody>\n</table>\n<p>26 rows × 876 columns</p>\n</div>"
     },
     "metadata": {},
     "execution_count": 89
    }
   ],
   "source": [
    "train_data=defaultdict(dict)\n",
    "target_gene='ACT1'\n",
    "\n",
    "synt_lethals_target_gene=data_synthetic_lethals[data_synthetic_lethals['name']==target_gene]['interactor']\n",
    "non_synt_lethals_target_gene=data_dosage_rescue[data_dosage_rescue['name']==target_gene]['interactor']\n",
    "\n",
    "\n",
    "for i in synt_lethals_target_gene:\n",
    "    counter=0\n",
    "    go_per_synt_gene=data_raw_slim_go[data_raw_slim_go['Gene']==i]['go-term'].tolist()\n",
    "\n",
    "    for j in go_per_synt_gene:\n",
    "        counter=counter+1\n",
    "        train_data[i][counter]=j\n",
    "        train_data[i]['lethal']=1\n",
    "    interactor_per_synt_gene=data_raw_interact[data_raw_interact['Gene']==i]['Interactor'].tolist()\n",
    "    for k in interactor_per_synt_gene:\n",
    "        counter=counter+1\n",
    "        train_data[i][counter]=k\n",
    "        train_data[i]['lethal']=1\n",
    "    \n",
    "\n",
    "for i in non_synt_lethals_target_gene:\n",
    "    counter=0 ## when adding new rows\n",
    "    go_per_non_synt_gene=data_raw_slim_go[data_raw_slim_go['Gene']==i]['go-term'].tolist()\n",
    "    for j in go_per_non_synt_gene:\n",
    "        counter=counter+1\n",
    "        train_data[i][counter]=j\n",
    "        train_data[i]['lethal']=0\n",
    "    interactor_per_non_synt_gene=data_raw_interact[data_raw_interact['Gene']==i]['Interactor'].tolist()\n",
    "    for k in interactor_per_non_synt_gene:\n",
    "        counter=counter+1\n",
    "        train_data[i][counter]=k\n",
    "        train_data[i]['lethal']=0\n",
    "\n",
    "\n",
    "train_data=pd.DataFrame(train_data)\n",
    "train_data=train_data.T.fillna('no-info')\n",
    "train_data.index=np.arange(0,len(synt_lethals_target_gene)+len(non_synt_lethals_target_gene)-1) \n",
    "\n",
    "train_data"
   ]
  },
  {
   "cell_type": "markdown",
   "metadata": {},
   "source": [
    "Now join all the datasets and transpose the final joined data."
   ]
  },
  {
   "cell_type": "code",
   "execution_count": 6,
   "metadata": {},
   "outputs": [
    {
     "output_type": "execute_result",
     "data": {
      "text/plain": "    0     1     2     3     4     5     6     7     8     9     ...  7119  \\\n1   -214  -153   -58    88  -295  -558   199  -176   252   206  ...   185   \n2   -139   -73    -1   283  -264  -400  -330  -168   101    74  ...   169   \n3    -76   -49  -307   309  -376  -650    33  -367   206  -215  ...   315   \n4   -135  -114   265    12  -419  -585   158  -253    49    31  ...   240   \n5   -106  -125   -76   168  -230  -284     4  -122    70   252  ...   156   \n..   ...   ...   ...   ...   ...   ...   ...   ...   ...   ...  ...   ...   \n68  -154  -136    49   180  -257  -273   141  -123    52   878  ...   214   \n69   -79  -118   -30    68  -110  -264   -28   -61    40  -217  ...   409   \n70   -55   -44    12   129  -108  -301  -222  -133   136   320  ...   131   \n71   -59  -114    23   146  -171  -227   -73  -126    -6   149  ...   214   \n72  -131  -126   -50   211  -206  -287   -34  -114    62   341  ...   206   \n\n    7120  7121  7122  7123  7124  7125  7126  7127  7128  \n1    511  -125   389   -37   793   329    36   191   -37  \n2    837   -36   442   -17   782   295    11    76   -14  \n3   1199    33   168    52  1138   777    41   228   -41  \n4    835   218   174  -110   627   170   -50   126   -91  \n5    649    57   504   -26   250   314    14    56   -25  \n..   ...   ...   ...   ...   ...   ...   ...   ...   ...  \n68   540    13  1075   -45   524   249    40   -68    -1  \n69   617   -34   738    11   742   234    72   109   -30  \n70   318    35   241   -66   320   174    -4   176    40  \n71   760   -38   201   -55   348   208     0    74   -12  \n72   697     3  1046    27   874   393    34   237    -2  \n\n[72 rows x 7129 columns]",
      "text/html": "<div>\n<style scoped>\n    .dataframe tbody tr th:only-of-type {\n        vertical-align: middle;\n    }\n\n    .dataframe tbody tr th {\n        vertical-align: top;\n    }\n\n    .dataframe thead th {\n        text-align: right;\n    }\n</style>\n<table border=\"1\" class=\"dataframe\">\n  <thead>\n    <tr style=\"text-align: right;\">\n      <th></th>\n      <th>0</th>\n      <th>1</th>\n      <th>2</th>\n      <th>3</th>\n      <th>4</th>\n      <th>5</th>\n      <th>6</th>\n      <th>7</th>\n      <th>8</th>\n      <th>9</th>\n      <th>...</th>\n      <th>7119</th>\n      <th>7120</th>\n      <th>7121</th>\n      <th>7122</th>\n      <th>7123</th>\n      <th>7124</th>\n      <th>7125</th>\n      <th>7126</th>\n      <th>7127</th>\n      <th>7128</th>\n    </tr>\n  </thead>\n  <tbody>\n    <tr>\n      <th>1</th>\n      <td>-214</td>\n      <td>-153</td>\n      <td>-58</td>\n      <td>88</td>\n      <td>-295</td>\n      <td>-558</td>\n      <td>199</td>\n      <td>-176</td>\n      <td>252</td>\n      <td>206</td>\n      <td>...</td>\n      <td>185</td>\n      <td>511</td>\n      <td>-125</td>\n      <td>389</td>\n      <td>-37</td>\n      <td>793</td>\n      <td>329</td>\n      <td>36</td>\n      <td>191</td>\n      <td>-37</td>\n    </tr>\n    <tr>\n      <th>2</th>\n      <td>-139</td>\n      <td>-73</td>\n      <td>-1</td>\n      <td>283</td>\n      <td>-264</td>\n      <td>-400</td>\n      <td>-330</td>\n      <td>-168</td>\n      <td>101</td>\n      <td>74</td>\n      <td>...</td>\n      <td>169</td>\n      <td>837</td>\n      <td>-36</td>\n      <td>442</td>\n      <td>-17</td>\n      <td>782</td>\n      <td>295</td>\n      <td>11</td>\n      <td>76</td>\n      <td>-14</td>\n    </tr>\n    <tr>\n      <th>3</th>\n      <td>-76</td>\n      <td>-49</td>\n      <td>-307</td>\n      <td>309</td>\n      <td>-376</td>\n      <td>-650</td>\n      <td>33</td>\n      <td>-367</td>\n      <td>206</td>\n      <td>-215</td>\n      <td>...</td>\n      <td>315</td>\n      <td>1199</td>\n      <td>33</td>\n      <td>168</td>\n      <td>52</td>\n      <td>1138</td>\n      <td>777</td>\n      <td>41</td>\n      <td>228</td>\n      <td>-41</td>\n    </tr>\n    <tr>\n      <th>4</th>\n      <td>-135</td>\n      <td>-114</td>\n      <td>265</td>\n      <td>12</td>\n      <td>-419</td>\n      <td>-585</td>\n      <td>158</td>\n      <td>-253</td>\n      <td>49</td>\n      <td>31</td>\n      <td>...</td>\n      <td>240</td>\n      <td>835</td>\n      <td>218</td>\n      <td>174</td>\n      <td>-110</td>\n      <td>627</td>\n      <td>170</td>\n      <td>-50</td>\n      <td>126</td>\n      <td>-91</td>\n    </tr>\n    <tr>\n      <th>5</th>\n      <td>-106</td>\n      <td>-125</td>\n      <td>-76</td>\n      <td>168</td>\n      <td>-230</td>\n      <td>-284</td>\n      <td>4</td>\n      <td>-122</td>\n      <td>70</td>\n      <td>252</td>\n      <td>...</td>\n      <td>156</td>\n      <td>649</td>\n      <td>57</td>\n      <td>504</td>\n      <td>-26</td>\n      <td>250</td>\n      <td>314</td>\n      <td>14</td>\n      <td>56</td>\n      <td>-25</td>\n    </tr>\n    <tr>\n      <th>...</th>\n      <td>...</td>\n      <td>...</td>\n      <td>...</td>\n      <td>...</td>\n      <td>...</td>\n      <td>...</td>\n      <td>...</td>\n      <td>...</td>\n      <td>...</td>\n      <td>...</td>\n      <td>...</td>\n      <td>...</td>\n      <td>...</td>\n      <td>...</td>\n      <td>...</td>\n      <td>...</td>\n      <td>...</td>\n      <td>...</td>\n      <td>...</td>\n      <td>...</td>\n      <td>...</td>\n    </tr>\n    <tr>\n      <th>68</th>\n      <td>-154</td>\n      <td>-136</td>\n      <td>49</td>\n      <td>180</td>\n      <td>-257</td>\n      <td>-273</td>\n      <td>141</td>\n      <td>-123</td>\n      <td>52</td>\n      <td>878</td>\n      <td>...</td>\n      <td>214</td>\n      <td>540</td>\n      <td>13</td>\n      <td>1075</td>\n      <td>-45</td>\n      <td>524</td>\n      <td>249</td>\n      <td>40</td>\n      <td>-68</td>\n      <td>-1</td>\n    </tr>\n    <tr>\n      <th>69</th>\n      <td>-79</td>\n      <td>-118</td>\n      <td>-30</td>\n      <td>68</td>\n      <td>-110</td>\n      <td>-264</td>\n      <td>-28</td>\n      <td>-61</td>\n      <td>40</td>\n      <td>-217</td>\n      <td>...</td>\n      <td>409</td>\n      <td>617</td>\n      <td>-34</td>\n      <td>738</td>\n      <td>11</td>\n      <td>742</td>\n      <td>234</td>\n      <td>72</td>\n      <td>109</td>\n      <td>-30</td>\n    </tr>\n    <tr>\n      <th>70</th>\n      <td>-55</td>\n      <td>-44</td>\n      <td>12</td>\n      <td>129</td>\n      <td>-108</td>\n      <td>-301</td>\n      <td>-222</td>\n      <td>-133</td>\n      <td>136</td>\n      <td>320</td>\n      <td>...</td>\n      <td>131</td>\n      <td>318</td>\n      <td>35</td>\n      <td>241</td>\n      <td>-66</td>\n      <td>320</td>\n      <td>174</td>\n      <td>-4</td>\n      <td>176</td>\n      <td>40</td>\n    </tr>\n    <tr>\n      <th>71</th>\n      <td>-59</td>\n      <td>-114</td>\n      <td>23</td>\n      <td>146</td>\n      <td>-171</td>\n      <td>-227</td>\n      <td>-73</td>\n      <td>-126</td>\n      <td>-6</td>\n      <td>149</td>\n      <td>...</td>\n      <td>214</td>\n      <td>760</td>\n      <td>-38</td>\n      <td>201</td>\n      <td>-55</td>\n      <td>348</td>\n      <td>208</td>\n      <td>0</td>\n      <td>74</td>\n      <td>-12</td>\n    </tr>\n    <tr>\n      <th>72</th>\n      <td>-131</td>\n      <td>-126</td>\n      <td>-50</td>\n      <td>211</td>\n      <td>-206</td>\n      <td>-287</td>\n      <td>-34</td>\n      <td>-114</td>\n      <td>62</td>\n      <td>341</td>\n      <td>...</td>\n      <td>206</td>\n      <td>697</td>\n      <td>3</td>\n      <td>1046</td>\n      <td>27</td>\n      <td>874</td>\n      <td>393</td>\n      <td>34</td>\n      <td>237</td>\n      <td>-2</td>\n    </tr>\n  </tbody>\n</table>\n<p>72 rows × 7129 columns</p>\n</div>"
     },
     "metadata": {},
     "execution_count": 6
    }
   ],
   "source": [
    "patients = [str(i) for i in range(1, 73, 1)]\n",
    "df_all = pd.concat([train, test], axis = 1)[patients]\n",
    "df_all = df_all.T\n",
    "df_all"
   ]
  },
  {
   "cell_type": "markdown",
   "metadata": {},
   "source": [
    "After transpose, the rows have been converted to columns(7129 columns/features)\n",
    "\n",
    "Now \n",
    "1. convert patient column to a numeric value and \n",
    "2. create dummy variables(converts categories into numeric values) since ‘cancer’ is a cateogorical column having 2 categories(ALL, AML)."
   ]
  },
  {
   "cell_type": "code",
   "execution_count": 92,
   "metadata": {},
   "outputs": [],
   "source": [
    "train_data[\"patient\"] = np.arange(0,len(synt_lethals_target_gene)+len(non_synt_lethals_target_gene)-1) "
   ]
  },
  {
   "cell_type": "markdown",
   "metadata": {},
   "source": [
    "Now join data frames df_all and labels on patient column."
   ]
  },
  {
   "cell_type": "markdown",
   "metadata": {},
   "source": [
    "Our next step is to create two variables X(matrix of independent variables) and y(vector of the dependent variable)."
   ]
  },
  {
   "cell_type": "code",
   "execution_count": null,
   "metadata": {},
   "outputs": [],
   "source": [
    "X,y=train_data.drop(columns=['lethal']),train_data['lethal']\n"
   ]
  },
  {
   "cell_type": "markdown",
   "metadata": {},
   "source": [
    "Next, \n",
    "We split 75% of the data into training set while 25% of the data to test set. \n",
    "The *test_size* variable is where we actually specify the proportion of the test set."
   ]
  },
  {
   "cell_type": "code",
   "execution_count": 94,
   "metadata": {},
   "outputs": [],
   "source": [
    "from sklearn.model_selection import train_test_split\n",
    "X_train, X_test, y_train, y_test =  train_test_split(X,y,test_size = 0.25, random_state= 0)"
   ]
  },
  {
   "cell_type": "markdown",
   "metadata": {},
   "source": [
    "Next step is :\n",
    "to normalize the data because if we closely look at the data the range of values of independent variables varies a lot.\n",
    "\n",
    "So when the values vary a lot in independent variables, we use **feature scaling** so that all the values remain in the comparable range."
   ]
  },
  {
   "cell_type": "code",
   "execution_count": null,
   "metadata": {},
   "outputs": [],
   "source": [
    "from sklearn.preprocessing import StandardScaler\n",
    "sc_X = StandardScaler()\n",
    "X_train = sc_X.fit_transform(X_train)\n",
    "X_test = sc_X.transform(X_test)\n",
    "\n",
    "##########ERROR########## because my features are strings"
   ]
  },
  {
   "cell_type": "markdown",
   "metadata": {},
   "source": [
    "The number of columns/features that we have been working with is huge. \n",
    "We have 72 rows and 7129 columns. \n",
    "Basically we need to decrease the number of features(Dimentioanlity Reduction) to remove the possibility of [ Curse of Dimensionality](https://en.wikipedia.org/wiki/Curse_of_dimensionality)\n",
    "\n",
    "For reducing the number of dimensions/features we will use the most popular dimensionality reduction algorithm i.e. **PCA(Principal Component Analysis)**.\n",
    "To perform PCA we have to choose the number of features/dimensions that we want in our data."
   ]
  },
  {
   "cell_type": "code",
   "execution_count": 13,
   "metadata": {},
   "outputs": [
    {
     "output_type": "stream",
     "name": "stdout",
     "text": "38\n"
    }
   ],
   "source": [
    "from sklearn.decomposition import PCA\n",
    "pca = PCA() \n",
    "X_train = pca.fit_transform(X_train)\n",
    "X_test = pca.transform(X_test)\n",
    "total=sum(pca.explained_variance_)\n",
    "k=0\n",
    "current_variance=0\n",
    "while current_variance/total < 0.90:\n",
    "    current_variance += pca.explained_variance_[k]\n",
    "    k=k+1\n",
    "print(k)"
   ]
  },
  {
   "cell_type": "markdown",
   "metadata": {},
   "source": [
    "\n",
    "The above code gives k=38.\n",
    "Now let us take k=38 and apply PCA on our independent variables."
   ]
  },
  {
   "cell_type": "code",
   "execution_count": 22,
   "metadata": {},
   "outputs": [
    {
     "data": {
      "text/plain": [
       "Text(0.5, 1.0, 'Around 90% of variance is explained by the First 38 columns ')"
      ]
     },
     "execution_count": 22,
     "metadata": {},
     "output_type": "execute_result"
    },
    {
     "data": {
      "image/png": "[encoded data removed]",
      "text/plain": [
       "<Figure size 432x288 with 1 Axes>"
      ]
     },
     "metadata": {
      "needs_background": "light"
     },
     "output_type": "display_data"
    }
   ],
   "source": [
    "from sklearn.decomposition import PCA\n",
    "pca = PCA(n_components = 38)\n",
    "X_train = pca.fit_transform(X_train)\n",
    "X_test = pca.transform(X_test)\n",
    "cum_sum = pca.explained_variance_ratio_.cumsum()\n",
    "cum_sum = cum_sum*100\n",
    "plt.bar(range(38), cum_sum)\n",
    "plt.ylabel(\"Cumulative Explained Variance\")\n",
    "plt.xlabel(\"Principal Components\")\n",
    "plt.title(\"Around 90% of variance is explained by the First 38 columns \")"
   ]
  },
  {
   "cell_type": "markdown",
   "metadata": {},
   "source": [
    "**Note:- PCA can lead to a reduction in model performance on datasets with no or low feature correlation or does not meet the assumptions of linearity.**\n",
    "The next step is to fit our data into the Support Vector Machine(SVM) algorithm but before doing that we will perform Hyperparameter optimization.\n",
    "\n",
    "> [Hyperparameter optimization](https://en.wikipedia.org/wiki/Hyperparameter_optimization) or tuning is the problem of choosing a set of optimal hyperparameters for a learning algorithm. A hyperparameter is a parameter whose value is used to control the learning process. By contrast, the values of other parameters are learned\n",
    "\n",
    "We will use GridSearchCV from sklearn for choosing the best hyperparameters."
   ]
  },
  {
   "cell_type": "code",
   "execution_count": 23,
   "metadata": {},
   "outputs": [
    {
     "name": "stdout",
     "output_type": "stream",
     "text": [
      "Fitting 3 folds for each of 40 candidates, totalling 120 fits\n"
     ]
    },
    {
     "name": "stderr",
     "output_type": "stream",
     "text": [
      "[Parallel(n_jobs=-1)]: Done 120 out of 120 | elapsed:    3.6s finished\n"
     ]
    },
    {
     "data": {
      "text/plain": [
       "GridSearchCV(cv=None, error_score='raise',\n",
       "       estimator=SVC(C=1.0, cache_size=200, class_weight=None, coef0=0.0,\n",
       "  decision_function_shape='ovr', degree=3, gamma='auto', kernel='rbf',\n",
       "  max_iter=-1, probability=False, random_state=None, shrinking=True,\n",
       "  tol=0.001, verbose=False),\n",
       "       fit_params=None, iid=True, n_jobs=-1,\n",
       "       param_grid=[{'C': [1, 10, 100, 1000], 'kernel': ['linear']}, {'C': [1, 10, 100, 1000], 'kernel': ['rbf'], 'gamma': [0.1, 0.2, 0.3, 0.4, 0.5, 0.6, 0.7, 0.8, 0.9]}],\n",
       "       pre_dispatch='2*n_jobs', refit=True, return_train_score='warn',\n",
       "       scoring=None, verbose=1)"
      ]
     },
     "execution_count": 23,
     "metadata": {},
     "output_type": "execute_result"
    }
   ],
   "source": [
    "from sklearn.model_selection import GridSearchCV\n",
    "from sklearn.svm import SVC\n",
    "parameters = [{'C': [1, 10, 100, 1000], 'kernel': ['linear']},\n",
    "              {'C': [1, 10, 100, 1000], 'kernel': ['rbf'], 'gamma': [0.1, 0.2, 0.3, 0.4, 0.5, 0.6, 0.7, 0.8, 0.9]}]\n",
    "search = GridSearchCV(SVC(), parameters, n_jobs=-1, verbose=1)\n",
    "search.fit(X_train, y_train)"
   ]
  },
  {
   "cell_type": "markdown",
   "metadata": {},
   "source": [
    "Now check what are the best parameters for our SVM algorithm"
   ]
  },
  {
   "cell_type": "code",
   "execution_count": 25,
   "metadata": {},
   "outputs": [
    {
     "name": "stdout",
     "output_type": "stream",
     "text": [
      "SVC(C=1, cache_size=200, class_weight=None, coef0=0.0,\n",
      "  decision_function_shape='ovr', degree=3, gamma='auto', kernel='linear',\n",
      "  max_iter=-1, probability=False, random_state=None, shrinking=True,\n",
      "  tol=0.001, verbose=False)\n"
     ]
    }
   ],
   "source": [
    "best_parameters = search.best_estimator_\n",
    "print(best_parameters)"
   ]
  },
  {
   "cell_type": "markdown",
   "metadata": {},
   "source": [
    "Now let's train our SVM classification model."
   ]
  },
  {
   "cell_type": "code",
   "execution_count": 32,
   "metadata": {},
   "outputs": [
    {
     "data": {
      "text/plain": [
       "SVC(C=1, cache_size=200, class_weight=None, coef0=0.0,\n",
       "  decision_function_shape='ovr', degree=3, gamma=0.001, kernel='linear',\n",
       "  max_iter=-1, probability=False, random_state=None, shrinking=True,\n",
       "  tol=0.001, verbose=False)"
      ]
     },
     "execution_count": 32,
     "metadata": {},
     "output_type": "execute_result"
    }
   ],
   "source": [
    "model = SVC(C=1, cache_size=200, class_weight=None, coef0=0.0,\n",
    "    decision_function_shape='ovr', degree=3, gamma=0.001,\n",
    "    kernel='linear', max_iter=-1, probability=False, random_state=None,\n",
    "    shrinking=True, tol=0.001, verbose=False)\n",
    "    \n",
    "model.fit(X_train, y_train)"
   ]
  },
  {
   "cell_type": "markdown",
   "metadata": {},
   "source": [
    "It is time for some predictions!"
   ]
  },
  {
   "cell_type": "code",
   "execution_count": 33,
   "metadata": {},
   "outputs": [],
   "source": [
    "y_pred=model.predict(X_test)"
   ]
  },
  {
   "cell_type": "markdown",
   "metadata": {},
   "source": [
    " Evaluating model performance"
   ]
  },
  {
   "cell_type": "code",
   "execution_count": 35,
   "metadata": {},
   "outputs": [
    {
     "name": "stdout",
     "output_type": "stream",
     "text": [
      "Accuracy Score: 0.67\n"
     ]
    }
   ],
   "source": [
    "from sklearn.metrics import accuracy_score, confusion_matrix\n",
    "from sklearn import metrics\n",
    "print('Accuracy Score:',round(accuracy_score(y_test, y_pred),2))\n",
    "#confusion matrix\n",
    "cm = confusion_matrix(y_test, y_pred)\n"
   ]
  },
  {
   "cell_type": "markdown",
   "metadata": {},
   "source": [
    "Confusion matrix and visualize it using Heatmap."
   ]
  },
  {
   "cell_type": "code",
   "execution_count": 40,
   "metadata": {},
   "outputs": [
    {
     "data": {
      "text/plain": [
       "Text(0.5, 257.44, 'Predicted label')"
      ]
     },
     "execution_count": 40,
     "metadata": {},
     "output_type": "execute_result"
    },
    {
     "data": {
      "image/png": "[encoded data removed]",
      "text/plain": [
       "<Figure size 432x288 with 2 Axes>"
      ]
     },
     "metadata": {
      "needs_background": "light"
     },
     "output_type": "display_data"
    }
   ],
   "source": [
    "class_names=[1,2,3]\n",
    "fig, ax = plt.subplots()\n",
    "from sklearn.metrics import confusion_matrix\n",
    "import seaborn as sns\n",
    "cm = confusion_matrix(y_test, y_pred)\n",
    "class_names=['ALL', 'AML']\n",
    "\n",
    "tick_marks = np.arange(len(class_names))\n",
    "plt.xticks(tick_marks, class_names)\n",
    "plt.yticks(tick_marks, class_names)\n",
    "sns.heatmap(pd.DataFrame(cm), annot=True, cmap=\"Blues\" ,fmt='g')\n",
    "ax.xaxis.set_label_position(\"top\")\n",
    "plt.tight_layout()\n",
    "plt.title('Confusion matrix', y=1.1)\n",
    "plt.ylabel('Actual label')\n",
    "plt.xlabel('Predicted label')"
   ]
  },
  {
   "cell_type": "code",
   "execution_count": 38,
   "metadata": {},
   "outputs": [
    {
     "data": {
      "text/html": [
       "<div>\n",
       "<style scoped>\n",
       "    .dataframe tbody tr th:only-of-type {\n",
       "        vertical-align: middle;\n",
       "    }\n",
       "\n",
       "    .dataframe tbody tr th {\n",
       "        vertical-align: top;\n",
       "    }\n",
       "\n",
       "    .dataframe thead th {\n",
       "        text-align: right;\n",
       "    }\n",
       "</style>\n",
       "<table border=\"1\" class=\"dataframe\">\n",
       "  <thead>\n",
       "    <tr style=\"text-align: right;\">\n",
       "      <th></th>\n",
       "      <th>0</th>\n",
       "      <th>1</th>\n",
       "    </tr>\n",
       "  </thead>\n",
       "  <tbody>\n",
       "    <tr>\n",
       "      <th>0</th>\n",
       "      <td>8</td>\n",
       "      <td>0</td>\n",
       "    </tr>\n",
       "    <tr>\n",
       "      <th>1</th>\n",
       "      <td>6</td>\n",
       "      <td>4</td>\n",
       "    </tr>\n",
       "  </tbody>\n",
       "</table>\n",
       "</div>"
      ],
      "text/plain": [
       "   0  1\n",
       "0  8  0\n",
       "1  6  4"
      ]
     },
     "execution_count": 38,
     "metadata": {},
     "output_type": "execute_result"
    }
   ],
   "source": [
    "pd.DataFrame(cm)"
   ]
  },
  {
   "cell_type": "markdown",
   "metadata": {},
   "source": [
    "Well, this example goes to show that if you just predict that every patient has AML, you’ll be correct more often than wrong.\n",
    "\n",
    "So our SVM classification model predicted the cancer patients with 67% accuracy which is of course not that good.\n",
    "\n",
    "What you can do is try different classifiers like Random forest, K-NN, Gradient Boosting, xgboost etc and compare the accuracies for each model."
   ]
  },
  {
   "cell_type": "code",
   "execution_count": null,
   "metadata": {},
   "outputs": [],
   "source": []
  }
 ],
 "metadata": {
  "kernelspec": {
   "display_name": "Python 3",
   "language": "python",
   "name": "python3"
  },
  "language_info": {
   "codemirror_mode": {
    "name": "ipython",
    "version": 3
   },
   "file_extension": ".py",
   "mimetype": "text/x-python",
   "name": "python",
   "nbconvert_exporter": "python",
   "pygments_lexer": "ipython3",
   "version": "3.7.0-final"
  }
 },
 "nbformat": 4,
 "nbformat_minor": 2
}