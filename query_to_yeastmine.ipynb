{
 "cells": [
  {
   "cell_type": "code",
   "execution_count": 4,
   "metadata": {},
   "outputs": [],
   "source": [
    "from intermine.webservice import Service\n",
    "import numpy as np\n",
    "import scipy.io\n",
    "import seaborn as sns\n",
    "from scipy import stats, optimize, interpolate\n",
    "import pandas as pd\n",
    "from collections import defaultdict \n",
    "import math\n",
    "import matplotlib.pyplot as plt\n",
    "from scipy.stats import norm, lognorm\n",
    "from scipy import stats\n",
    "import matplotlib.cm as cm\n",
    "import matplotlib.mlab as mlab\n",
    "import os, fnmatch"
   ]
  },
  {
   "cell_type": "code",
   "execution_count": null,
   "metadata": {},
   "outputs": [],
   "source": [
    "## In case is necessary to make a new query , a new data retrieval to yeastmine where is the most updated info about genetic interactions \n",
    "# This is an example to search the synthetic lethals of bem1,bem3,bem2 and nrp1\n",
    "def query_filter_by_inter(constrain):\n",
    "    #constrain=\"Synthetic Lethality\"\n",
    "    #constrain=\"Negative Genetic\"\n",
    "    service = Service('https://yeastmine.yeastgenome.org/yeastmine/service', token = '11d7t1Y007Fa97c82f27')\n",
    "\n",
    "    # Get a new query on the class (table) you will be querying:\n",
    "    query = service.new_query(\"Gene\")\n",
    "\n",
    "    # The view specifies the output columns\n",
    "    query.add_view(\n",
    "        \"secondaryIdentifier\", \"symbol\", \"interactions.details.relationshipType\",\n",
    "        \"interactions.participant2.symbol\", \"interactions.details.annotationType\",\n",
    "        \"interactions.details.experiment.name\",\"goAnnotation.ontologyTerm.parents.name\"\n",
    "    )\n",
    "\n",
    "    # You can edit the constraint values below\n",
    "    query.add_constraint(\"Gene\", \"IN\", \"extended-gene-list-polarity\", code = \"A\")\n",
    "    #query.add_constraint(\"interactions.details.experiment.name\", \"CONTAINS\", \"Synthetic Lethality\", code = \"B\")\n",
    "    query.add_constraint(\"interactions.details.experiment.name\", \"CONTAINS\", constrain, code = \"B\")\n",
    "\n",
    "    data_toy=defaultdict(dict)\n",
    "\n",
    "    for row,counter in zip(query.rows(),np.arange(0,len(query.rows()))):\n",
    "        data_toy['name'][counter]=row['symbol']\n",
    "        data_toy['interactor'][counter]=row[\"interactions.participant2.symbol\"]\n",
    "        data_toy['type'][counter]=row[\"interactions.details.relationshipType\"]\n",
    "        data_toy['annotation'][counter]=row[\"interactions.details.annotationType\"]\n",
    "        data_toy['experiment'][counter]=row[\"interactions.details.experiment.name\"]\n",
    "        # data_toy['go-term'][counter]=row[\"goAnnotation.ontologyTerm.parents.n_toy_pd=pd.DataFrame(data_toy)\n",
    "\n",
    "\n",
    "\n",
    "    data_toy_pd=pd.DataFrame(data_toy)\n",
    "    data_toy_pd=data_toy_pd.drop_duplicates()\n",
    "    return data_toy_pd"
   ]
  },
  {
   "cell_type": "code",
   "execution_count": null,
   "metadata": {},
   "outputs": [],
   "source": [
    "## Examples of queries\n",
    "\n",
    "data_synt_lethal_from_list=query_filter_by_inter(constrain=\"Synthetic Lethality\")\n"
   ]
  },
  {
   "cell_type": "code",
   "execution_count": null,
   "metadata": {},
   "outputs": [],
   "source": [
    "data_negative_genetic_from_list=query_filter_by_inter(constrain=\"Negative Genetic\")\n"
   ]
  },
  {
   "cell_type": "code",
   "execution_count": null,
   "metadata": {},
   "outputs": [],
   "source": [
    "data_phenotypic_suppression=query_filter_by_inter(constrain='Phenotypic Suppression')"
   ]
  },
  {
   "cell_type": "code",
   "execution_count": 7,
   "metadata": {},
   "outputs": [],
   "source": [
    "from __future__ import print_function\n",
    "\n",
    "# The following two lines will be needed in every python script:\n",
    "from intermine.webservice import Service\n",
    "service = Service('https://yeastmine.yeastgenome.org/yeastmine/service', token = '11d7t1Y007Fa97c82f27')\n",
    "\n",
    "# Get a new query on the class (table) you will be querying:\n",
    "query = service.new_query(\"Gene\")\n",
    "\n",
    "# The view specifies the output columns\n",
    "query.add_view(\"symbol\", \"pathways.name\")\n",
    "\n",
    "# You can edit the constraint values below\n",
    "query.add_constraint(\"organism.shortName\", \"=\", \"S. cerevisiae\", code = \"B\")\n",
    "query.add_constraint(\"Gene\", \"IN\", \"ALL_Verified_Uncharacterized_Dubious_ORFs\", code = \"A\")\n",
    "\n",
    "# Uncomment and edit the code below to specify your own custom logic:\n",
    "# query.set_logic(\"A and B\")\n",
    "\n",
    "data_toy=defaultdict(dict)\n",
    "\n",
    "for row,counter in zip(query.rows(),np.arange(0,len(query.rows()))):\n",
    "    data_toy['name'][counter]=row['symbol']\n",
    "    data_toy['pathway-name'][counter]=row[\"pathways.name\"]\n",
    "    \n",
    "    # data_toy['go-term'][counter]=row[\"goAnnotation.ontologyTerm.parents.n_toy_pd=pd.DataFrame(data_toy)\n",
    "\n",
    "\n",
    "\n",
    "data_toy_pd=pd.DataFrame(data_toy)\n",
    "#data_toy_pd=data_toy_pd.drop_duplicates()\n"
   ]
  },
  {
   "cell_type": "code",
   "execution_count": 8,
   "metadata": {},
   "outputs": [
    {
     "output_type": "execute_result",
     "data": {
      "text/plain": "   name                                       pathway-name\n0  SLC1  phosphatidate biosynthesis II (the glycerol-3-...\n1  SLC1  phosphatidate biosynthesis I (the dihydroxyace...\n2  SLC1         superpathway of phosphatidate biosynthesis\n3  PAN5           pantothenate and coenzyme A biosynthesis\n4  COQ5            superpathway of ubiquinone biosynthesis",
      "text/html": "<div>\n<style scoped>\n    .dataframe tbody tr th:only-of-type {\n        vertical-align: middle;\n    }\n\n    .dataframe tbody tr th {\n        vertical-align: top;\n    }\n\n    .dataframe thead th {\n        text-align: right;\n    }\n</style>\n<table border=\"1\" class=\"dataframe\">\n  <thead>\n    <tr style=\"text-align: right;\">\n      <th></th>\n      <th>name</th>\n      <th>pathway-name</th>\n    </tr>\n  </thead>\n  <tbody>\n    <tr>\n      <th>0</th>\n      <td>SLC1</td>\n      <td>phosphatidate biosynthesis II (the glycerol-3-...</td>\n    </tr>\n    <tr>\n      <th>1</th>\n      <td>SLC1</td>\n      <td>phosphatidate biosynthesis I (the dihydroxyace...</td>\n    </tr>\n    <tr>\n      <th>2</th>\n      <td>SLC1</td>\n      <td>superpathway of phosphatidate biosynthesis</td>\n    </tr>\n    <tr>\n      <th>3</th>\n      <td>PAN5</td>\n      <td>pantothenate and coenzyme A biosynthesis</td>\n    </tr>\n    <tr>\n      <th>4</th>\n      <td>COQ5</td>\n      <td>superpathway of ubiquinone biosynthesis</td>\n    </tr>\n  </tbody>\n</table>\n</div>"
     },
     "metadata": {},
     "execution_count": 8
    }
   ],
   "source": [
    "data_toy_pd.head()"
   ]
  },
  {
   "cell_type": "code",
   "execution_count": 9,
   "metadata": {},
   "outputs": [],
   "source": [
    "data_toy_pd.to_excel('data-from-yeastmine-queries/gene2pathways.xlsx')"
   ]
  },
  {
   "cell_type": "code",
   "execution_count": null,
   "metadata": {},
   "outputs": [],
   "source": []
  }
 ],
 "metadata": {
  "language_info": {
   "name": "python",
   "codemirror_mode": {
    "name": "ipython",
    "version": 3
   },
   "version": "3.7.7-final"
  },
  "orig_nbformat": 2,
  "file_extension": ".py",
  "mimetype": "text/x-python",
  "name": "python",
  "npconvert_exporter": "python",
  "pygments_lexer": "ipython3",
  "version": 3,
  "kernelspec": {
   "name": "python37064bitbaseconda6c8618fc0f0945779f8ded01abbb1089",
   "display_name": "Python 3.7.0 64-bit ('base': conda)"
  }
 },
 "nbformat": 4,
 "nbformat_minor": 2
}