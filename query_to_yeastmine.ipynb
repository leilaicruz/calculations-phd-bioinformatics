{
 "nbformat": 4,
 "nbformat_minor": 2,
 "metadata": {
  "language_info": {
   "name": "python",
   "codemirror_mode": {
    "name": "ipython",
    "version": 3
   }
  },
  "orig_nbformat": 2,
  "file_extension": ".py",
  "mimetype": "text/x-python",
  "name": "python",
  "npconvert_exporter": "python",
  "pygments_lexer": "ipython3",
  "version": 3
 },
 "cells": [
  {
   "cell_type": "code",
   "execution_count": null,
   "metadata": {},
   "outputs": [],
   "source": [
    "from intermine.webservice import Service\n",
    "mport numpy as np\n",
    "import scipy.io\n",
    "import seaborn as sns\n",
    "from scipy import stats, optimize, interpolate\n",
    "import pandas as pd\n",
    "from collections import defaultdict \n",
    "import math\n",
    "import matplotlib.pyplot as plt\n",
    "from scipy.stats import norm, lognorm\n",
    "from scipy import stats\n",
    "import matplotlib.cm as cm\n",
    "import matplotlib.mlab as mlab\n",
    "import os, fnmatch"
   ]
  },
  {
   "cell_type": "code",
   "execution_count": null,
   "metadata": {},
   "outputs": [],
   "source": [
    "## In case is necessary to make a new query , a new data retrieval to yeastmine where is the most updated info about genetic interactions \n",
    "# This is an example to search the synthetic lethals of bem1,bem3,bem2 and nrp1\n",
    "def query_filter_by_inter(constrain):\n",
    "    #constrain=\"Synthetic Lethality\"\n",
    "    #constrain=\"Negative Genetic\"\n",
    "    service = Service('https://yeastmine.yeastgenome.org/yeastmine/service', token = '11d7t1Y007Fa97c82f27')\n",
    "\n",
    "    # Get a new query on the class (table) you will be querying:\n",
    "    query = service.new_query(\"Gene\")\n",
    "\n",
    "    # The view specifies the output columns\n",
    "    query.add_view(\n",
    "        \"secondaryIdentifier\", \"symbol\", \"interactions.details.relationshipType\",\n",
    "        \"interactions.participant2.symbol\", \"interactions.details.annotationType\",\n",
    "        \"interactions.details.experiment.name\",\"goAnnotation.ontologyTerm.parents.name\"\n",
    "    )\n",
    "\n",
    "    # You can edit the constraint values below\n",
    "    query.add_constraint(\"Gene\", \"IN\", \"extended-gene-list-polarity\", code = \"A\")\n",
    "    #query.add_constraint(\"interactions.details.experiment.name\", \"CONTAINS\", \"Synthetic Lethality\", code = \"B\")\n",
    "    query.add_constraint(\"interactions.details.experiment.name\", \"CONTAINS\", constrain, code = \"B\")\n",
    "\n",
    "    data_toy=defaultdict(dict)\n",
    "\n",
    "    for row,counter in zip(query.rows(),np.arange(0,len(query.rows()))):\n",
    "        data_toy['name'][counter]=row['symbol']\n",
    "        data_toy['interactor'][counter]=row[\"interactions.participant2.symbol\"]\n",
    "        data_toy['type'][counter]=row[\"interactions.details.relationshipType\"]\n",
    "        data_toy['annotation'][counter]=row[\"interactions.details.annotationType\"]\n",
    "        data_toy['experiment'][counter]=row[\"interactions.details.experiment.name\"]\n",
    "        # data_toy['go-term'][counter]=row[\"goAnnotation.ontologyTerm.parents.n_toy_pd=pd.DataFrame(data_toy)\n",
    "\n",
    "\n",
    "\n",
    "    data_toy_pd=pd.DataFrame(data_toy)\n",
    "    data_toy_pd=data_toy_pd.drop_duplicates()\n",
    "    return data_toy_pd"
   ]
  },
  {
   "cell_type": "code",
   "execution_count": null,
   "metadata": {},
   "outputs": [],
   "source": [
    "## Examples of queries\n",
    "\n",
    "data_synt_lethal_from_list=query_filter_by_inter(constrain=\"Synthetic Lethality\")\n"
   ]
  },
  {
   "cell_type": "code",
   "execution_count": null,
   "metadata": {},
   "outputs": [],
   "source": [
    "data_negative_genetic_from_list=query_filter_by_inter(constrain=\"Negative Genetic\")\n"
   ]
  },
  {
   "cell_type": "code",
   "execution_count": null,
   "metadata": {},
   "outputs": [],
   "source": [
    "data_phenotypic_suppression=query_filter_by_inter(constrain='Phenotypic Suppression')"
   ]
  }
 ]
}